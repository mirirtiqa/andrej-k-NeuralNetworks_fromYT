{
 "cells": [
  {
   "cell_type": "code",
   "execution_count": 1,
   "metadata": {},
   "outputs": [],
   "source": [
    "import torch\n",
    "import torch.nn.functional as F\n",
    "import matplotlib.pyplot as plt"
   ]
  },
  {
   "cell_type": "code",
   "execution_count": 2,
   "metadata": {},
   "outputs": [],
   "source": [
    "class Linear:\n",
    "\n",
    "    def __init__(self,fan_in,fan_out,bias=True):\n",
    "        self.weight = torch.randn(fan_in,fan_out)/fan_in**0.5\n",
    "        self.bias = torch.zeros([fan_out]) if bias else None\n",
    "    \n",
    "    def __call__(self,x):\n",
    "        self.out = x @ self.weight\n",
    "        if self.bias is not None:\n",
    "            self.out += self.bias\n",
    "        return self.out\n",
    "    def parameters(self):\n",
    "        return [self.weight] +([] if self.bias is None else [self.bias])\n",
    "class BatchNorm1D:\n",
    "    def __init__(self,dim,eps=1e-5,momentum=0.1):\n",
    "        self.eps = eps\n",
    "        self.momentum = momentum\n",
    "        self.training= True\n",
    "\n",
    "        self.gamma = torch.ones(dim)\n",
    "        self.beta = torch.zeros(dim)\n",
    "\n",
    "        self.running_mean = torch.zeros(dim)\n",
    "        self.running_var = torch.ones(dim)\n",
    "\n",
    "    def __call__(self,x):\n",
    "        if self.training:\n",
    "            if x.ndim == 2:\n",
    "                dim = 0\n",
    "            elif x.ndim == 3:\n",
    "                dim = (0,1)\n",
    "            xmean = x.mean(dim,keepdim= True)\n",
    "            xvar = x.var(dim,keepdim = True)\n",
    "        else:\n",
    "            xmean = self.running_mean\n",
    "            xvar = self.running_var\n",
    "            \n",
    "        xhat = (x - xmean)/torch.sqrt(self.eps + xvar)\n",
    "        self.out = self.gamma * xhat + self.beta\n",
    "        \n",
    "        if self.training:\n",
    "            with torch.no_grad():\n",
    "                self.running_mean = (1-self.momentum)*self.running_mean + self.momentum * xmean\n",
    "                self.running_var = (1-self.momentum)*self.running_var + self.momentum * xvar\n",
    "\n",
    "        return self.out\n",
    "\n",
    "    def parameters(self):\n",
    "        return [self.gamma,self.beta]\n",
    "        \n",
    "class Tanh:\n",
    "    def __call__(self,x):\n",
    "        self.out = torch.tanh(x)\n",
    "        return self.out\n",
    "    def parameters(self):\n",
    "        return []\n",
    "\n",
    "class Embedding:\n",
    "    def __init__(self,num_embeddings, embedding_dim):\n",
    "        self.weight = torch.randn((num_embeddings,embedding_dim))\n",
    "    def __call__(self,IX):\n",
    "        self.out = self.weight[IX]\n",
    "        return self.out\n",
    "    def parameters(self):\n",
    "        return [self.weight]\n",
    "\n",
    "\n",
    "class FlattenConsec:\n",
    "    def __init__(self,n):\n",
    "        self.n = n\n",
    "\n",
    "    def __call__(self,x):\n",
    "        B,T,C = x.shape\n",
    "        x = x.view(B,T//self.n,C*self.n)\n",
    "        if x.shape[1] ==1:\n",
    "            x = x.squeeze(1)\n",
    "        self.out = x\n",
    "        return self.out\n",
    "    def parameters(self):\n",
    "        return []\n",
    "\n",
    "class Sequential:\n",
    "    def __init__(self,layers):\n",
    "        self.layers = layers\n",
    "    def __call__(self,x):\n",
    "        for layer in self.layers:\n",
    "            x = layer(x)\n",
    "        self.out = x\n",
    "        return self.out\n",
    "\n",
    "    def parameters(self):\n",
    "        return [p for layer in self.layers for p in layer.parameters()]\n",
    "\n",
    "\n",
    "    \n",
    "\n",
    "        \n"
   ]
  },
  {
   "cell_type": "code",
   "execution_count": 3,
   "metadata": {},
   "outputs": [
    {
     "data": {
      "text/plain": [
       "27"
      ]
     },
     "execution_count": 3,
     "metadata": {},
     "output_type": "execute_result"
    }
   ],
   "source": [
    "words = open('names.txt','r').read().splitlines()\n",
    "chars = sorted(list(set(''.join(words))))\n",
    "stoi = {s:i+1 for i,s in enumerate(chars)}\n",
    "stoi['.']=0\n",
    "itos = {i:s for s,i in stoi.items()}\n",
    "vocab_size=(len(itos))\n",
    "vocab_size\n"
   ]
  },
  {
   "cell_type": "code",
   "execution_count": 4,
   "metadata": {},
   "outputs": [],
   "source": [
    "#buidling the dataset\n",
    "block_size = 8\n",
    "def build_dataset(words):\n",
    "    X,Y = [],[]\n",
    "\n",
    "    for w in words:\n",
    "        context = [0]*block_size\n",
    "        for ch in w + '.':\n",
    "            ix = stoi[ch]\n",
    "            Y.append(ix)\n",
    "            X.append(context)\n",
    "            context = context[1:] +[ix]\n",
    "    X = torch.tensor(X)\n",
    "    Y = torch.tensor(Y)\n",
    "    return X,Y\n",
    "\n",
    "import random\n",
    "random.seed(42)\n",
    "random.shuffle(words)\n",
    "n1 = int(0.8*len(words))\n",
    "n2 = int(0.9*len(words))\n",
    "\n",
    "Xtr, Ytr = build_dataset(words[:n1])\n",
    "Xdev, Ydev = build_dataset(words[n1:n2])\n",
    "Xte,Yte = build_dataset(words[n2:])"
   ]
  },
  {
   "cell_type": "code",
   "execution_count": 5,
   "metadata": {},
   "outputs": [
    {
     "name": "stdout",
     "output_type": "stream",
     "text": [
      "76579\n"
     ]
    }
   ],
   "source": [
    "n_embd = 24\n",
    "n_hidden = 128\n",
    "block_size = 8\n",
    "g = torch.Generator().manual_seed(2147483647)\n",
    "\n",
    "model = Sequential([\n",
    "    Embedding(vocab_size,n_embd),\n",
    "    FlattenConsec(2), Linear(n_embd*2,n_hidden,bias = False), BatchNorm1D(n_hidden), Tanh(),\n",
    "    FlattenConsec(2), Linear(n_hidden*2,n_hidden,bias = False), BatchNorm1D(n_hidden), Tanh(),\n",
    "    FlattenConsec(2), Linear(n_hidden*2,n_hidden,bias = False), BatchNorm1D(n_hidden), Tanh(),\n",
    "    Linear(n_hidden,vocab_size)\n",
    "])\n",
    "\n",
    "# with torch.no_grad():\n",
    "#     layers[-1].weight *= 0.1\n",
    "\n",
    "parameters = model.parameters()\n",
    "\n",
    "print(sum(p.nelement() for p in parameters))\n",
    "\n",
    "for p in parameters:\n",
    "    p.requires_grad = True"
   ]
  },
  {
   "cell_type": "code",
   "execution_count": 6,
   "metadata": {},
   "outputs": [],
   "source": [
    "# ix = torch.randint(0,Xtr.shape[0],(4,))\n",
    "# Xb, Yb = Xtr[ix], Ytr[ix]\n",
    "# logits = model(Xb)\n",
    "# print(Xb.shape)\n",
    "# Xb"
   ]
  },
  {
   "cell_type": "code",
   "execution_count": 7,
   "metadata": {},
   "outputs": [
    {
     "name": "stdout",
     "output_type": "stream",
     "text": [
      "3.449491\n"
     ]
    },
    {
     "name": "stdout",
     "output_type": "stream",
     "text": [
      "2.430930\n",
      "1.854767\n",
      "2.046129\n",
      "1.848030\n",
      "1.826837\n",
      "2.227922\n",
      "1.692511\n",
      "2.276778\n",
      "1.941632\n",
      "1.911806\n",
      "2.004632\n",
      "2.113206\n",
      "1.648165\n",
      "1.866408\n",
      "2.135785\n",
      "2.287783\n",
      "2.358427\n",
      "2.043221\n",
      "2.228011\n"
     ]
    }
   ],
   "source": [
    "max_steps = 20000\n",
    "batch_size = 32\n",
    "lossi = []\n",
    "\n",
    "for i in range(max_steps):\n",
    "    #making a batch\n",
    "    ix = torch.randint(0,Xtr.shape[0],(batch_size,),generator=g)\n",
    "    Xb,Yb = Xtr[ix], Ytr[ix]\n",
    "\n",
    "    #forward pass\n",
    "    logits = model(Xb)\n",
    "\n",
    "   \n",
    "    \n",
    "    \n",
    "    loss = F.cross_entropy(logits,Yb)\n",
    "\n",
    "    #backward pass\n",
    "    for p in parameters:\n",
    "        p.grad = None\n",
    "    loss.backward()\n",
    "\n",
    "    #update\n",
    "    lr = 0.1 if i<10000 else 0.01\n",
    "    for p in parameters:\n",
    "        p.data += -lr*p.grad\n",
    "\n",
    "    #stats\n",
    "    if i %1000 ==0:\n",
    "        print(f'{loss.item():4f}')\n",
    "    lossi.append(loss.log10().item())"
   ]
  },
  {
   "cell_type": "code",
   "execution_count": 8,
   "metadata": {},
   "outputs": [
    {
     "name": "stdout",
     "output_type": "stream",
     "text": [
      "Embedding-------->(32, 8, 24)\n",
      "FlattenConsec-------->(32, 4, 48)\n",
      "Linear-------->(32, 4, 128)\n",
      "BatchNorm1D-------->(32, 4, 128)\n",
      "Tanh-------->(32, 4, 128)\n",
      "FlattenConsec-------->(32, 2, 256)\n",
      "Linear-------->(32, 2, 128)\n",
      "BatchNorm1D-------->(32, 2, 128)\n",
      "Tanh-------->(32, 2, 128)\n",
      "FlattenConsec-------->(32, 256)\n",
      "Linear-------->(32, 128)\n",
      "BatchNorm1D-------->(32, 128)\n",
      "Tanh-------->(32, 128)\n",
      "Linear-------->(32, 27)\n"
     ]
    }
   ],
   "source": [
    "for i in range(14):\n",
    "    print(f'{model.layers[i].__class__.__name__}-------->{tuple(model.layers[i].out.shape)}')"
   ]
  },
  {
   "cell_type": "code",
   "execution_count": 9,
   "metadata": {},
   "outputs": [
    {
     "data": {
      "text/plain": [
       "torch.Size([1, 1, 128])"
      ]
     },
     "execution_count": 9,
     "metadata": {},
     "output_type": "execute_result"
    }
   ],
   "source": [
    "model.layers[3].running_mean.shape"
   ]
  },
  {
   "cell_type": "code",
   "execution_count": 10,
   "metadata": {},
   "outputs": [],
   "source": [
    "# e = torch.randn(3,2,2)\n",
    "# emean = e.mean((0,1),keepdims = True)"
   ]
  },
  {
   "cell_type": "code",
   "execution_count": 11,
   "metadata": {},
   "outputs": [
    {
     "data": {
      "text/plain": [
       "[<matplotlib.lines.Line2D at 0x7f7415624d60>]"
      ]
     },
     "execution_count": 11,
     "metadata": {},
     "output_type": "execute_result"
    },
    {
     "data": {
      "image/png": "[encoded data removed]",
      "text/plain": [
       "<Figure size 640x480 with 1 Axes>"
      ]
     },
     "metadata": {},
     "output_type": "display_data"
    }
   ],
   "source": [
    "plt.plot(torch.tensor(lossi).view(-1,1000).mean(1))"
   ]
  },
  {
   "cell_type": "code",
   "execution_count": 12,
   "metadata": {},
   "outputs": [],
   "source": [
    "for layer in model.layers:\n",
    "    layer.training = False"
   ]
  },
  {
   "cell_type": "code",
   "execution_count": 13,
   "metadata": {},
   "outputs": [
    {
     "name": "stdout",
     "output_type": "stream",
     "text": [
      "carmah.\n",
      "amelle.\n",
      "khirmy.\n",
      "xithty.\n",
      "halaya.\n",
      "emmahut.\n",
      "faresyn.\n",
      "jareen.\n",
      "nellari.\n",
      "chaiiv.\n",
      "kaleigh.\n",
      "hamon.\n",
      "cadessan.\n",
      "suline.\n",
      "livebi.\n",
      "watero.\n",
      "dearyn.\n",
      "karmeeni.\n",
      "sabee.\n",
      "decii.\n"
     ]
    }
   ],
   "source": [
    "g = torch.Generator().manual_seed(2147483647 + 10)\n",
    "\n",
    "for _ in range(20):\n",
    "    out = []\n",
    "    context = [0] * block_size\n",
    "    while True:\n",
    "        \n",
    "        logits = model(torch.tensor([context]))\n",
    "        probs = F.softmax(logits,dim=1)\n",
    "\n",
    "        ix = torch.multinomial(probs,num_samples=1,generator=g).item()\n",
    "\n",
    "        context = context[1:] + [ix]\n",
    "\n",
    "        out.append(ix)\n",
    "\n",
    "        if ix == 0:\n",
    "            break\n",
    "\n",
    "    print(''.join(itos[i] for i in out))\n"
   ]
  }
 ],
 "metadata": {
  "kernelspec": {
   "display_name": "Python 3",
   "language": "python",
   "name": "python3"
  },
  "language_info": {
   "codemirror_mode": {
    "name": "ipython",
    "version": 3
   },
   "file_extension": ".py",
   "mimetype": "text/x-python",
   "name": "python",
   "nbconvert_exporter": "python",
   "pygments_lexer": "ipython3",
   "version": "3.10.13"
  }
 },
 "nbformat": 4,
 "nbformat_minor": 2
}
