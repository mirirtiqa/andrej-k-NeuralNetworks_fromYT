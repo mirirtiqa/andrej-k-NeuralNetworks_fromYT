{
 "cells": [
  {
   "cell_type": "code",
   "execution_count": 1,
   "metadata": {},
   "outputs": [],
   "source": [
    "import torch\n",
    "import torch.nn.functional as F\n",
    "import matplotlib.pyplot as plt\n"
   ]
  },
  {
   "cell_type": "code",
   "execution_count": 2,
   "metadata": {},
   "outputs": [
    {
     "data": {
      "text/plain": [
       "['emma', 'olivia', 'ava', 'isabella', 'sophia', 'charlotte', 'mia', 'amelia']"
      ]
     },
     "execution_count": 2,
     "metadata": {},
     "output_type": "execute_result"
    }
   ],
   "source": [
    "words = open('names.txt','r').read().splitlines()\n",
    "words[:8]"
   ]
  },
  {
   "cell_type": "code",
   "execution_count": 4,
   "metadata": {},
   "outputs": [
    {
     "data": {
      "text/plain": [
       "32033"
      ]
     },
     "execution_count": 4,
     "metadata": {},
     "output_type": "execute_result"
    }
   ],
   "source": [
    "len(words)"
   ]
  },
  {
   "cell_type": "code",
   "execution_count": 3,
   "metadata": {},
   "outputs": [],
   "source": [
    "chars = sorted(list(set(''.join(words))))\n",
    "stoi = {s:i+1 for i,s in enumerate(chars)}\n",
    "stoi['.'] = 0\n",
    "itos = {i:s for s,i in stoi.items()}\n",
    "\n"
   ]
  },
  {
   "cell_type": "code",
   "execution_count": 27,
   "metadata": {},
   "outputs": [],
   "source": [
    "block_size = 3 #context\n",
    "\n",
    "X,Y = [],[]\n",
    "\n",
    "for w in words:\n",
    "    context = [0]*block_size\n",
    "\n",
    "    for ch in w + '.':\n",
    "        ix = stoi[ch]\n",
    "        X.append(context)\n",
    "        Y.append(ix)\n",
    "        context = context[1:] + [ix]\n",
    "X = torch.tensor(X)\n",
    "Y = torch.tensor(Y)\n"
   ]
  },
  {
   "cell_type": "code",
   "execution_count": 79,
   "metadata": {},
   "outputs": [],
   "source": [
    "\n",
    "def buildDataset(words):\n",
    "    block_size = 3 #context\n",
    "\n",
    "    X,Y = [],[]\n",
    "\n",
    "    for w in words:\n",
    "        context = [0]*block_size\n",
    "\n",
    "        for ch in w + '.':\n",
    "            ix = stoi[ch]\n",
    "            X.append(context)\n",
    "            Y.append(ix)\n",
    "            context = context[1:] + [ix]\n",
    "    X = torch.tensor(X)\n",
    "    Y = torch.tensor(Y)\n",
    "    return X,Y\n"
   ]
  },
  {
   "cell_type": "code",
   "execution_count": 80,
   "metadata": {},
   "outputs": [],
   "source": [
    "import random\n",
    "random.seed(42)\n",
    "random.shuffle(words)\n",
    "n1 = int(0.8*len(words))\n",
    "n2 = int(0.9*len(words))\n",
    "\n",
    "Xtr,Ytr = buildDataset(words[:n1])\n",
    "Xdev,Ydev = buildDataset(words[n1:n2])\n",
    "Xtest,Ytest = buildDataset(words[n2:])\n",
    "\n"
   ]
  },
  {
   "cell_type": "code",
   "execution_count": 77,
   "metadata": {},
   "outputs": [
    {
     "data": {
      "text/plain": [
       "torch.Size([22866, 3])"
      ]
     },
     "execution_count": 77,
     "metadata": {},
     "output_type": "execute_result"
    }
   ],
   "source": [
    "Xtest.shape"
   ]
  },
  {
   "cell_type": "code",
   "execution_count": 9,
   "metadata": {},
   "outputs": [
    {
     "data": {
      "text/plain": [
       "tensor([ 5, 13, 13,  1,  0, 15, 12,  9, 22,  9,  1,  0,  1, 22,  1,  0,  9, 19,\n",
       "         1,  2,  5, 12, 12,  1,  0, 19, 15, 16,  8,  9,  1,  0])"
      ]
     },
     "execution_count": 9,
     "metadata": {},
     "output_type": "execute_result"
    }
   ],
   "source": [
    "Y"
   ]
  },
  {
   "cell_type": "code",
   "execution_count": null,
   "metadata": {},
   "outputs": [],
   "source": [
    "#why embeddings? because if we have a huge vocabukary, we the count table/weiht matrix will get very large,\n",
    "#so we reduce the dimensions and this is what word embeddings are and also we do one-hot encoding, each input\n",
    "#will also get very huge, hence the word embeddings"
   ]
  },
  {
   "cell_type": "code",
   "execution_count": 6,
   "metadata": {},
   "outputs": [
    {
     "data": {
      "text/plain": [
       "tensor([[-0.1624, -0.3268],\n",
       "        [-1.1902, -0.7771],\n",
       "        [-1.1407, -0.3889],\n",
       "        [ 1.4655,  0.2752],\n",
       "        [ 0.9227, -0.1005],\n",
       "        [-1.2708, -2.1439],\n",
       "        [ 1.4130,  0.6896],\n",
       "        [-0.1015, -0.9872],\n",
       "        [-0.8022,  0.2185],\n",
       "        [-0.2064, -0.6460],\n",
       "        [ 0.4205, -1.5608],\n",
       "        [-0.0952,  0.7246],\n",
       "        [ 1.8269,  0.2085],\n",
       "        [-0.1410,  0.8016],\n",
       "        [-0.2412, -2.1454],\n",
       "        [ 0.9632,  1.4284],\n",
       "        [-0.0819, -1.3815],\n",
       "        [ 0.9544,  0.2491],\n",
       "        [ 0.2271,  0.1308],\n",
       "        [ 0.6405, -1.3724],\n",
       "        [ 0.4848,  0.1172],\n",
       "        [ 0.8056,  1.0183],\n",
       "        [ 0.3281, -0.3507],\n",
       "        [-0.8739, -0.6710],\n",
       "        [-0.6908, -0.3790],\n",
       "        [ 0.1867, -1.0744],\n",
       "        [-0.6472, -0.5502]])"
      ]
     },
     "execution_count": 6,
     "metadata": {},
     "output_type": "execute_result"
    }
   ],
   "source": [
    "C = torch.randn((27,2))\n",
    "C"
   ]
  },
  {
   "cell_type": "code",
   "execution_count": 11,
   "metadata": {},
   "outputs": [
    {
     "data": {
      "text/plain": [
       "tensor([-0.1330,  0.0790])"
      ]
     },
     "execution_count": 11,
     "metadata": {},
     "output_type": "execute_result"
    }
   ],
   "source": [
    "C[5]"
   ]
  },
  {
   "cell_type": "code",
   "execution_count": 7,
   "metadata": {},
   "outputs": [],
   "source": [
    "emb = C[X]"
   ]
  },
  {
   "cell_type": "code",
   "execution_count": 8,
   "metadata": {},
   "outputs": [],
   "source": [
    "W1 = torch.randn((6,100)) #input to the hidden layer will be 6 as we have to take cotext of three, and each of the characters in the cntetx is respresented by 2 dimensions\n",
    "b1 = torch.randn(100)"
   ]
  },
  {
   "cell_type": "code",
   "execution_count": 22,
   "metadata": {},
   "outputs": [
    {
     "data": {
      "text/plain": [
       "tensor([[[ 2.1296, -0.1937],\n",
       "         [ 2.1296, -0.1937],\n",
       "         [ 2.1296, -0.1937]],\n",
       "\n",
       "        [[ 2.1296, -0.1937],\n",
       "         [ 2.1296, -0.1937],\n",
       "         [-0.1330,  0.0790]],\n",
       "\n",
       "        [[ 2.1296, -0.1937],\n",
       "         [-0.1330,  0.0790],\n",
       "         [ 0.3550,  0.5484]],\n",
       "\n",
       "        [[-0.1330,  0.0790],\n",
       "         [ 0.3550,  0.5484],\n",
       "         [ 0.3550,  0.5484]],\n",
       "\n",
       "        [[ 0.3550,  0.5484],\n",
       "         [ 0.3550,  0.5484],\n",
       "         [-1.7854,  0.8131]],\n",
       "\n",
       "        [[ 2.1296, -0.1937],\n",
       "         [ 2.1296, -0.1937],\n",
       "         [ 2.1296, -0.1937]],\n",
       "\n",
       "        [[ 2.1296, -0.1937],\n",
       "         [ 2.1296, -0.1937],\n",
       "         [ 0.9675, -0.0531]],\n",
       "\n",
       "        [[ 2.1296, -0.1937],\n",
       "         [ 0.9675, -0.0531],\n",
       "         [-1.1988,  0.9911]],\n",
       "\n",
       "        [[ 0.9675, -0.0531],\n",
       "         [-1.1988,  0.9911],\n",
       "         [ 0.5543,  1.0257]],\n",
       "\n",
       "        [[-1.1988,  0.9911],\n",
       "         [ 0.5543,  1.0257],\n",
       "         [-0.7333, -0.8376]],\n",
       "\n",
       "        [[ 0.5543,  1.0257],\n",
       "         [-0.7333, -0.8376],\n",
       "         [ 0.5543,  1.0257]],\n",
       "\n",
       "        [[-0.7333, -0.8376],\n",
       "         [ 0.5543,  1.0257],\n",
       "         [-1.7854,  0.8131]],\n",
       "\n",
       "        [[ 2.1296, -0.1937],\n",
       "         [ 2.1296, -0.1937],\n",
       "         [ 2.1296, -0.1937]],\n",
       "\n",
       "        [[ 2.1296, -0.1937],\n",
       "         [ 2.1296, -0.1937],\n",
       "         [-1.7854,  0.8131]],\n",
       "\n",
       "        [[ 2.1296, -0.1937],\n",
       "         [-1.7854,  0.8131],\n",
       "         [-0.7333, -0.8376]],\n",
       "\n",
       "        [[-1.7854,  0.8131],\n",
       "         [-0.7333, -0.8376],\n",
       "         [-1.7854,  0.8131]],\n",
       "\n",
       "        [[ 2.1296, -0.1937],\n",
       "         [ 2.1296, -0.1937],\n",
       "         [ 2.1296, -0.1937]],\n",
       "\n",
       "        [[ 2.1296, -0.1937],\n",
       "         [ 2.1296, -0.1937],\n",
       "         [ 0.5543,  1.0257]],\n",
       "\n",
       "        [[ 2.1296, -0.1937],\n",
       "         [ 0.5543,  1.0257],\n",
       "         [ 2.7399, -0.8322]],\n",
       "\n",
       "        [[ 0.5543,  1.0257],\n",
       "         [ 2.7399, -0.8322],\n",
       "         [-1.7854,  0.8131]],\n",
       "\n",
       "        [[ 2.7399, -0.8322],\n",
       "         [-1.7854,  0.8131],\n",
       "         [ 0.2488,  0.0892]],\n",
       "\n",
       "        [[-1.7854,  0.8131],\n",
       "         [ 0.2488,  0.0892],\n",
       "         [-0.1330,  0.0790]],\n",
       "\n",
       "        [[ 0.2488,  0.0892],\n",
       "         [-0.1330,  0.0790],\n",
       "         [-1.1988,  0.9911]],\n",
       "\n",
       "        [[-0.1330,  0.0790],\n",
       "         [-1.1988,  0.9911],\n",
       "         [-1.1988,  0.9911]],\n",
       "\n",
       "        [[-1.1988,  0.9911],\n",
       "         [-1.1988,  0.9911],\n",
       "         [-1.7854,  0.8131]],\n",
       "\n",
       "        [[ 2.1296, -0.1937],\n",
       "         [ 2.1296, -0.1937],\n",
       "         [ 2.1296, -0.1937]],\n",
       "\n",
       "        [[ 2.1296, -0.1937],\n",
       "         [ 2.1296, -0.1937],\n",
       "         [ 2.7399, -0.8322]],\n",
       "\n",
       "        [[ 2.1296, -0.1937],\n",
       "         [ 2.7399, -0.8322],\n",
       "         [ 0.9675, -0.0531]],\n",
       "\n",
       "        [[ 2.7399, -0.8322],\n",
       "         [ 0.9675, -0.0531],\n",
       "         [-0.5120,  0.0835]],\n",
       "\n",
       "        [[ 0.9675, -0.0531],\n",
       "         [-0.5120,  0.0835],\n",
       "         [-2.5662,  0.8510]],\n",
       "\n",
       "        [[-0.5120,  0.0835],\n",
       "         [-2.5662,  0.8510],\n",
       "         [ 0.5543,  1.0257]],\n",
       "\n",
       "        [[-2.5662,  0.8510],\n",
       "         [ 0.5543,  1.0257],\n",
       "         [-1.7854,  0.8131]]])"
      ]
     },
     "execution_count": 22,
     "metadata": {},
     "output_type": "execute_result"
    }
   ],
   "source": [
    "emb"
   ]
  },
  {
   "cell_type": "code",
   "execution_count": 9,
   "metadata": {},
   "outputs": [],
   "source": [
    "h = torch.tanh(emb.view(-1,6) @ W1 + b1)"
   ]
  },
  {
   "cell_type": "code",
   "execution_count": 35,
   "metadata": {},
   "outputs": [
    {
     "data": {
      "text/plain": [
       "torch.Size([32, 100])"
      ]
     },
     "execution_count": 35,
     "metadata": {},
     "output_type": "execute_result"
    }
   ],
   "source": [
    "h.shape"
   ]
  },
  {
   "cell_type": "code",
   "execution_count": 10,
   "metadata": {},
   "outputs": [],
   "source": [
    "W2 = torch.randn((100,27))\n",
    "b2 = torch .randn(27)"
   ]
  },
  {
   "cell_type": "code",
   "execution_count": 11,
   "metadata": {},
   "outputs": [
    {
     "data": {
      "text/plain": [
       "torch.Size([32, 27])"
      ]
     },
     "execution_count": 11,
     "metadata": {},
     "output_type": "execute_result"
    }
   ],
   "source": [
    "logits = h @ W2 + b2\n",
    "logits.shape\n"
   ]
  },
  {
   "cell_type": "code",
   "execution_count": 12,
   "metadata": {},
   "outputs": [],
   "source": [
    "counts = logits.exp()\n",
    "prob = counts/counts.sum(1,keepdims=True)\n"
   ]
  },
  {
   "cell_type": "code",
   "execution_count": 13,
   "metadata": {},
   "outputs": [],
   "source": [
    "loss = -prob[torch.arange(32),Y].log().mean()"
   ]
  },
  {
   "cell_type": "code",
   "execution_count": 47,
   "metadata": {},
   "outputs": [
    {
     "data": {
      "text/plain": [
       "tensor(16.5030)"
      ]
     },
     "execution_count": 47,
     "metadata": {},
     "output_type": "execute_result"
    }
   ],
   "source": [
    "loss"
   ]
  },
  {
   "cell_type": "code",
   "execution_count": 118,
   "metadata": {},
   "outputs": [],
   "source": [
    "g = torch.Generator().manual_seed(214783647)\n",
    "C = torch.randn((27,10),generator=g)\n",
    "W1= torch.randn((30,200),generator=g)\n",
    "b1 = torch.randn(200,generator=g)\n",
    "W2 = torch.randn((200,27),generator=g)\n",
    "b2 = torch.randn(27,generator=g)\n",
    "parameters = [C,W1,b1,W2,b2]\n",
    "\n",
    "\n"
   ]
  },
  {
   "cell_type": "code",
   "execution_count": 119,
   "metadata": {},
   "outputs": [
    {
     "data": {
      "text/plain": [
       "11897"
      ]
     },
     "execution_count": 119,
     "metadata": {},
     "output_type": "execute_result"
    }
   ],
   "source": [
    "sum(p.nelement() for p in parameters)"
   ]
  },
  {
   "cell_type": "code",
   "execution_count": 122,
   "metadata": {},
   "outputs": [],
   "source": [
    "for p in parameters:\n",
    "    p.requires_grad = True"
   ]
  },
  {
   "cell_type": "code",
   "execution_count": 123,
   "metadata": {},
   "outputs": [],
   "source": [
    "lre = torch.linspace(-3,0,1000)\n",
    "lrs = 10**lre\n"
   ]
  },
  {
   "cell_type": "code",
   "execution_count": 124,
   "metadata": {},
   "outputs": [],
   "source": [
    "lri =[]\n",
    "lossi =[]\n",
    "stepi = []"
   ]
  },
  {
   "cell_type": "code",
   "execution_count": 131,
   "metadata": {},
   "outputs": [
    {
     "name": "stdout",
     "output_type": "stream",
     "text": [
      "2.177995204925537\n"
     ]
    }
   ],
   "source": [
    "for i in range(50000):\n",
    "    #minibatch to make the gradient descent run fast\n",
    "    ix = torch.randint(0,Xtr.shape[0],(32,))\n",
    "    emb = C[Xtr[ix]]\n",
    "    h = torch.tanh(emb.view(-1,30) @ W1+ b1)\n",
    "    logits = h @ W2 + b2\n",
    "    loss = F.cross_entropy(logits,Ytr[ix])\n",
    "    \n",
    "\n",
    "    for p in parameters:\n",
    "        p.grad = None\n",
    "    loss.backward()\n",
    "\n",
    "    # lr = lrs[i]\n",
    "    lr = 0.01\n",
    "    for p in parameters:\n",
    "        p.data += -lr * p.grad\n",
    "    # lri.append(lre[i])\n",
    "    lossi.append(loss.log10().item())\n",
    "    stepi.append(i)\n",
    "print(loss.item())\n",
    "\n"
   ]
  },
  {
   "cell_type": "code",
   "execution_count": 132,
   "metadata": {},
   "outputs": [
    {
     "data": {
      "text/plain": [
       "[<matplotlib.lines.Line2D at 0x7f0b5b198070>]"
      ]
     },
     "execution_count": 132,
     "metadata": {},
     "output_type": "execute_result"
    },
    {
     "data": {
      "image/png": "[encoded data removed]",
      "text/plain": [
       "<Figure size 640x480 with 1 Axes>"
      ]
     },
     "metadata": {},
     "output_type": "display_data"
    }
   ],
   "source": [
    "plt.plot(stepi,lossi)"
   ]
  },
  {
   "cell_type": "code",
   "execution_count": 133,
   "metadata": {},
   "outputs": [
    {
     "data": {
      "text/plain": [
       "2.2061996459960938"
      ]
     },
     "execution_count": 133,
     "metadata": {},
     "output_type": "execute_result"
    }
   ],
   "source": [
    "emb = C[Xdev]\n",
    "h = torch.tanh(emb.view(-1,30) @ W1+ b1)\n",
    "logits = h @ W2 + b2 \n",
    "loss = F.cross_entropy(logits,Ydev)\n",
    "loss.item()"
   ]
  },
  {
   "cell_type": "code",
   "execution_count": 155,
   "metadata": {},
   "outputs": [
    {
     "name": "stdout",
     "output_type": "stream",
     "text": [
      "aaharaanaanaalaanaalaianaa.\n"
     ]
    }
   ],
   "source": [
    "out = []\n",
    "context = [0]*3\n",
    "\n",
    "while True:\n",
    "    emb = C[torch.tensor([context])]\n",
    "    h = torch.tanh(emb.view(1,-1)) @ W1 + b1\n",
    "    logits = h @ W2 + b2\n",
    "    probs = F.softmax(logits,dim =1)\n",
    "    ix = torch.multinomial(probs,num_samples=1,generator=g).item()\n",
    "    context = context[1:] + [ix]\n",
    "    out.append(ix)\n",
    "    if ix ==0:\n",
    "        break\n",
    "\n",
    "print(''.join(itos[i] for i in out ))\n",
    "\n",
    "      "
   ]
  }
 ],
 "metadata": {
  "kernelspec": {
   "display_name": "Python 3",
   "language": "python",
   "name": "python3"
  },
  "language_info": {
   "codemirror_mode": {
    "name": "ipython",
    "version": 3
   },
   "file_extension": ".py",
   "mimetype": "text/x-python",
   "name": "python",
   "nbconvert_exporter": "python",
   "pygments_lexer": "ipython3",
   "version": "3.10.13"
  }
 },
 "nbformat": 4,
 "nbformat_minor": 2
}
