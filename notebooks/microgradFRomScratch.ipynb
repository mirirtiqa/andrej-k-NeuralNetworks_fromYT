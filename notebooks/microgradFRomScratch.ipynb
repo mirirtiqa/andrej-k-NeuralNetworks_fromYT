{
 "cells": [
  {
   "cell_type": "code",
   "execution_count": 1,
   "metadata": {},
   "outputs": [],
   "source": [
    "import math\n",
    "import numpy as np\n",
    "import matplotlib.pyplot as plt\n"
   ]
  },
  {
   "cell_type": "code",
   "execution_count": 3,
   "metadata": {},
   "outputs": [],
   "source": [
    "def f(x):\n",
    "    return 3*x**2 -4*x + 5"
   ]
  },
  {
   "cell_type": "code",
   "execution_count": 4,
   "metadata": {},
   "outputs": [
    {
     "data": {
      "text/plain": [
       "20.0"
      ]
     },
     "execution_count": 4,
     "metadata": {},
     "output_type": "execute_result"
    }
   ],
   "source": [
    "f(3.0)"
   ]
  },
  {
   "cell_type": "code",
   "execution_count": 5,
   "metadata": {},
   "outputs": [],
   "source": [
    "xs = np.arange(-5,5,0.25)\n",
    "ys = f(xs)"
   ]
  },
  {
   "cell_type": "code",
   "execution_count": 6,
   "metadata": {},
   "outputs": [
    {
     "name": "stdout",
     "output_type": "stream",
     "text": [
      "[100.      91.6875  83.75    76.1875  69.      62.1875  55.75    49.6875\n",
      "  44.      38.6875  33.75    29.1875  25.      21.1875  17.75    14.6875\n",
      "  12.       9.6875   7.75     6.1875   5.       4.1875   3.75     3.6875\n",
      "   4.       4.6875   5.75     7.1875   9.      11.1875  13.75    16.6875\n",
      "  20.      23.6875  27.75    32.1875  37.      42.1875  47.75    53.6875]\n"
     ]
    }
   ],
   "source": [
    "print(ys)"
   ]
  },
  {
   "cell_type": "code",
   "execution_count": 7,
   "metadata": {},
   "outputs": [
    {
     "data": {
      "text/plain": [
       "[<matplotlib.lines.Line2D at 0x7fe094dcb070>]"
      ]
     },
     "execution_count": 7,
     "metadata": {},
     "output_type": "execute_result"
    },
    {
     "data": {
      "image/png": "[encoded data removed]",
      "text/plain": [
       "<Figure size 640x480 with 1 Axes>"
      ]
     },
     "metadata": {},
     "output_type": "display_data"
    }
   ],
   "source": [
    "plt.plot(xs,ys)"
   ]
  },
  {
   "cell_type": "code",
   "execution_count": 8,
   "metadata": {},
   "outputs": [
    {
     "data": {
      "text/plain": [
       "-21.99099999999987"
      ]
     },
     "execution_count": 8,
     "metadata": {},
     "output_type": "execute_result"
    }
   ],
   "source": [
    "h = 0.003\n",
    "x = - 3.0\n",
    "(f(x+h) -f(x))/h\n"
   ]
  },
  {
   "cell_type": "code",
   "execution_count": 9,
   "metadata": {},
   "outputs": [
    {
     "name": "stdout",
     "output_type": "stream",
     "text": [
      "4.0\n"
     ]
    }
   ],
   "source": [
    "a = 2.0\n",
    "b =-3.0\n",
    "c= 10.0\n",
    "d= a*b +c\n",
    "print(d)"
   ]
  },
  {
   "cell_type": "code",
   "execution_count": 10,
   "metadata": {},
   "outputs": [],
   "source": [
    "h = 0.0001\n",
    "\n",
    "a+=h\n",
    "d2 = a*b +c"
   ]
  },
  {
   "cell_type": "code",
   "execution_count": 11,
   "metadata": {},
   "outputs": [
    {
     "name": "stdout",
     "output_type": "stream",
     "text": [
      "2.0001\n",
      "3.999699999999999\n",
      "-3.000000000010772\n"
     ]
    }
   ],
   "source": [
    "print(a)\n",
    "print(d2)\n",
    "print((d2-d)/h)"
   ]
  },
  {
   "cell_type": "code",
   "execution_count": 16,
   "metadata": {},
   "outputs": [],
   "source": [
    "class Value:\n",
    "    def __init__(self, data,_children=(), _op='', label = ''):\n",
    "        self.data = data\n",
    "        self._prev = set(_children)\n",
    "        self._op = _op\n",
    "        self.label = label\n",
    "        self.grad = 0.0\n",
    "        self.backward = lambda:None\n",
    "    def __repr__(self) -> str:\n",
    "        return f\"Value(data={self.data})\"\n",
    "    def __add__(self,other):\n",
    "        other = other if isinstance(other,Value) else Value(other)\n",
    "        out = Value(self.data + other.data, (self,other),'+')\n",
    "\n",
    "        def _backward():\n",
    "            self.grad += out.grad\n",
    "            other.grad += out.grad\n",
    "        out.backward = _backward\n",
    "        return out\n",
    "    \n",
    "    def __radd__(self,other):\n",
    "        return self + other\n",
    "\n",
    "    def __mul__(self,other):\n",
    "        other = other if isinstance(other,Value) else Value(other)\n",
    "        out = Value(self.data * other.data, (self,other),'*')\n",
    "        def _backward():\n",
    "            self.grad += other.data * out.grad\n",
    "            other.grad += self.grad * out.grad\n",
    "        out.backward =_backward\n",
    "        return out\n",
    "    def __rmul__(self,other):\n",
    "        return self*other\n",
    "    def __neg__(self):\n",
    "        return self * -1\n",
    "\n",
    "    def __sub__(self,other):\n",
    "        return self + (-other)\n",
    "\n",
    "    \n",
    "    def exp(self):\n",
    "        x = self.data\n",
    "        out = Value(math.exp(x),self,'exp')\n",
    "        def _backward():\n",
    "            self.grad += out.data * out.grad\n",
    "        out.backward = _backward\n",
    "        return out\n",
    "    def __pow__(self,other):\n",
    "        assert isinstance(other, (int,float)), \"only supporting int/float powers for now\"\n",
    "        out = Value(self.data**other,(self,), f'**{other}')\n",
    "        def _backward():\n",
    "            self.grad += (other * (self.data**(other-1))) * out.grad\n",
    "        out.backward = _backward\n",
    "        return out\n",
    "    \n",
    "    def __truediv__(self,other):\n",
    "        return self * (other**-1)\n",
    "\n",
    "    def tanh(self):\n",
    "        x = self.data\n",
    "        t = (math.exp(2*x)-1)/(math.exp(2*x) + 1)\n",
    "        out = Value(t,(self,),_op ='tanh')\n",
    "        def _backward():\n",
    "            self.grad += (1-t**2)*out.grad\n",
    "        out.backward = _backward\n",
    "        return out\n",
    "    def _doBackprop(self):\n",
    "        self.grad = 1.0\n",
    "        topo = []\n",
    "        visited = set()\n",
    "\n",
    "        def build_topo(v):\n",
    "            if v not in visited:\n",
    "                visited.add(v)\n",
    "                for child in v._prev:\n",
    "                    build_topo(child)\n",
    "                topo.append(v)\n",
    "\n",
    "        build_topo(self)\n",
    "        for n in reversed(topo):\n",
    "            n.backward()\n",
    "        \n",
    "\n"
   ]
  },
  {
   "cell_type": "code",
   "execution_count": 85,
   "metadata": {},
   "outputs": [
    {
     "data": {
      "text/plain": [
       "-1.0"
      ]
     },
     "execution_count": 85,
     "metadata": {},
     "output_type": "execute_result"
    }
   ],
   "source": [
    "num1 = Value(2.0,label='num1')\n",
    "num2 = Value(4.0,label='num2')\n",
    "\n",
    "num3 = num2 - num1\n",
    "num3.grad = 1.0\n",
    "num3._doBackprop()\n",
    "num1.grad\n",
    "\n",
    "\n"
   ]
  },
  {
   "cell_type": "code",
   "execution_count": 68,
   "metadata": {},
   "outputs": [
    {
     "data": {
      "text/plain": [
       "Value(data=-1.0)"
      ]
     },
     "execution_count": 68,
     "metadata": {},
     "output_type": "execute_result"
    }
   ],
   "source": [
    "num2"
   ]
  },
  {
   "cell_type": "code",
   "execution_count": 58,
   "metadata": {},
   "outputs": [
    {
     "data": {
      "text/plain": [
       "12.0"
      ]
     },
     "execution_count": 58,
     "metadata": {},
     "output_type": "execute_result"
    }
   ],
   "source": [
    "num1.grad"
   ]
  },
  {
   "cell_type": "code",
   "execution_count": 3,
   "metadata": {},
   "outputs": [
    {
     "name": "stdout",
     "output_type": "stream",
     "text": [
      "Requirement already satisfied: graphviz in /usr/local/python/3.10.13/lib/python3.10/site-packages (0.20.1)\n",
      "Note: you may need to restart the kernel to use updated packages.\n"
     ]
    }
   ],
   "source": [
    "pip install graphviz"
   ]
  },
  {
   "cell_type": "code",
   "execution_count": 17,
   "metadata": {},
   "outputs": [],
   "source": [
    "from graphviz import Digraph"
   ]
  },
  {
   "cell_type": "code",
   "execution_count": 18,
   "metadata": {},
   "outputs": [],
   "source": [
    "\n",
    "def trace(root):\n",
    "    nodes,edges = set(), set()\n",
    "    def build(v):\n",
    "        if v not in nodes:\n",
    "            nodes.add(v)\n",
    "            for child in v._prev:\n",
    "                edges.add((child,v))\n",
    "                build(child)\n",
    "    build(root)\n",
    "    return nodes,edges\n",
    "\n",
    "def draw_dot(root):\n",
    "    dot = Digraph(format = 'svg', graph_attr = {'rankdir':'LR'})\n",
    "\n",
    "    nodes,edges = trace(root)\n",
    "\n",
    "    for n in nodes:\n",
    "        uid = str(id(n))\n",
    "        dot.node(name= uid, label = \"{%s | data %.4f | grad %.4f}\" % (n.label , n.data, n.grad), shape = 'record')\n",
    "\n",
    "        if n._op:\n",
    "            dot.node(name = uid + n._op,label= n._op)\n",
    "            dot.edge(uid + n._op,uid)\n",
    "\n",
    "    for n1,n2 in edges:\n",
    "        dot.edge(str(id(n1)),str(id(n2)) + n2._op)\n",
    "\n",
    "    return dot\n",
    "\n",
    "\n"
   ]
  },
  {
   "cell_type": "code",
   "execution_count": 33,
   "metadata": {},
   "outputs": [],
   "source": [
    "L.grad = 1.0\n",
    "d.grad = f.data\n",
    "f.grad = d.data\n",
    "c.grad = d.grad \n",
    "e.grad = d.grad\n",
    "b.grad = e.grad * a.data\n",
    "a.grad = e.grad * b.data"
   ]
  },
  {
   "cell_type": "markdown",
   "metadata": {},
   "source": [
    "iteration 2"
   ]
  },
  {
   "cell_type": "markdown",
   "metadata": {},
   "source": [
    "Neural net 2 layer"
   ]
  },
  {
   "cell_type": "code",
   "execution_count": 19,
   "metadata": {},
   "outputs": [],
   "source": [
    "import math"
   ]
  },
  {
   "cell_type": "code",
   "execution_count": 8,
   "metadata": {},
   "outputs": [],
   "source": [
    "x1 = Value(2.0,label='x1')\n",
    "x2 = Value(0.0, label='x2')\n",
    "\n",
    "\n",
    "w1 = Value(-3.0, label='w1')\n",
    "w2 = Value(1.0, label='w2')\n",
    "\n",
    "b = Value(6.881375870195432, label='b')\n",
    "\n",
    "x1w1 = x1*w1\n",
    "x1w1.label ='x1w1'\n",
    "x2w2 = x2 * w2\n",
    "x2w2.label = 'x2w2'\n",
    "\n",
    "x1w1x2w2 = x1w1 + x2w2\n",
    "x1w1x2w2.label ='x1*w1 + x2*w2'\n",
    "\n",
    "n = x1w1x2w2 + b\n",
    "n.label = 'n'\n",
    "\n",
    "o = n.tanh()\n",
    "o.label = 'o'\n",
    "\n",
    "\n",
    "\n"
   ]
  },
  {
   "cell_type": "code",
   "execution_count": 9,
   "metadata": {},
   "outputs": [],
   "source": [
    "o._doBackprop()"
   ]
  },
  {
   "cell_type": "code",
   "execution_count": 10,
   "metadata": {},
   "outputs": [
    {
     "data": {
      "image/svg+xml": [
       "<?xml version=\"1.0\" encoding=\"UTF-8\" standalone=\"no\"?>\n",
       "<!DOCTYPE svg PUBLIC \"-//W3C//DTD SVG 1.1//EN\"\n",
       " \"http://www.w3.org/Graphics/SVG/1.1/DTD/svg11.dtd\">\n",
       "<!-- Generated by graphviz version 2.43.0 (0)\n",
       " -->\n",
       "<!-- Title: %3 Pages: 1 -->\n",
       "<svg width=\"1843pt\" height=\"210pt\"\n",
       " viewBox=\"0.00 0.00 1842.69 210.00\" xmlns=\"http://www.w3.org/2000/svg\" xmlns:xlink=\"http://www.w3.org/1999/xlink\">\n",
       "<g id=\"graph0\" class=\"graph\" transform=\"scale(1 1) rotate(0) translate(4 206)\">\n",
       "<title>%3</title>\n",
       "<polygon fill=\"white\" stroke=\"transparent\" points=\"-4,4 -4,-206 1838.69,-206 1838.69,4 -4,4\"/>\n",
       "<!-- 139755592380960 -->\n",
       "<g id=\"node1\" class=\"node\">\n",
       "<title>139755592380960</title>\n",
       "<polygon fill=\"none\" stroke=\"black\" points=\"1236,-109.5 1236,-145.5 1468,-145.5 1468,-109.5 1236,-109.5\"/>\n",
       "<text text-anchor=\"middle\" x=\"1249\" y=\"-123.8\" font-family=\"Times,serif\" font-size=\"14.00\">n</text>\n",
       "<polyline fill=\"none\" stroke=\"black\" points=\"1262,-109.5 1262,-145.5 \"/>\n",
       "<text text-anchor=\"middle\" x=\"1313\" y=\"-123.8\" font-family=\"Times,serif\" font-size=\"14.00\">data 0.8814</text>\n",
       "<polyline fill=\"none\" stroke=\"black\" points=\"1364,-109.5 1364,-145.5 \"/>\n",
       "<text text-anchor=\"middle\" x=\"1416\" y=\"-123.8\" font-family=\"Times,serif\" font-size=\"14.00\">grad 0.5000</text>\n",
       "</g>\n",
       "<!-- 139755592375392tanh -->\n",
       "<g id=\"node6\" class=\"node\">\n",
       "<title>139755592375392tanh</title>\n",
       "<ellipse fill=\"none\" stroke=\"black\" cx=\"1535.85\" cy=\"-127.5\" rx=\"31.7\" ry=\"18\"/>\n",
       "<text text-anchor=\"middle\" x=\"1535.85\" y=\"-123.8\" font-family=\"Times,serif\" font-size=\"14.00\">tanh</text>\n",
       "</g>\n",
       "<!-- 139755592380960&#45;&gt;139755592375392tanh -->\n",
       "<g id=\"edge14\" class=\"edge\">\n",
       "<title>139755592380960&#45;&gt;139755592375392tanh</title>\n",
       "<path fill=\"none\" stroke=\"black\" d=\"M1468.17,-127.5C1477.08,-127.5 1485.66,-127.5 1493.53,-127.5\"/>\n",
       "<polygon fill=\"black\" stroke=\"black\" points=\"1493.78,-131 1503.78,-127.5 1493.78,-124 1493.78,-131\"/>\n",
       "</g>\n",
       "<!-- 139755592380960+ -->\n",
       "<g id=\"node2\" class=\"node\">\n",
       "<title>139755592380960+</title>\n",
       "<ellipse fill=\"none\" stroke=\"black\" cx=\"1173\" cy=\"-127.5\" rx=\"27\" ry=\"18\"/>\n",
       "<text text-anchor=\"middle\" x=\"1173\" y=\"-123.8\" font-family=\"Times,serif\" font-size=\"14.00\">+</text>\n",
       "</g>\n",
       "<!-- 139755592380960+&#45;&gt;139755592380960 -->\n",
       "<g id=\"edge1\" class=\"edge\">\n",
       "<title>139755592380960+&#45;&gt;139755592380960</title>\n",
       "<path fill=\"none\" stroke=\"black\" d=\"M1200.12,-127.5C1207.53,-127.5 1216.14,-127.5 1225.4,-127.5\"/>\n",
       "<polygon fill=\"black\" stroke=\"black\" points=\"1225.69,-131 1235.69,-127.5 1225.69,-124 1225.69,-131\"/>\n",
       "</g>\n",
       "<!-- 139755994519088 -->\n",
       "<g id=\"node3\" class=\"node\">\n",
       "<title>139755994519088</title>\n",
       "<polygon fill=\"none\" stroke=\"black\" points=\"4.5,-165.5 4.5,-201.5 248.5,-201.5 248.5,-165.5 4.5,-165.5\"/>\n",
       "<text text-anchor=\"middle\" x=\"21.5\" y=\"-179.8\" font-family=\"Times,serif\" font-size=\"14.00\">x1</text>\n",
       "<polyline fill=\"none\" stroke=\"black\" points=\"38.5,-165.5 38.5,-201.5 \"/>\n",
       "<text text-anchor=\"middle\" x=\"89.5\" y=\"-179.8\" font-family=\"Times,serif\" font-size=\"14.00\">data 2.0000</text>\n",
       "<polyline fill=\"none\" stroke=\"black\" points=\"140.5,-165.5 140.5,-201.5 \"/>\n",
       "<text text-anchor=\"middle\" x=\"194.5\" y=\"-179.8\" font-family=\"Times,serif\" font-size=\"14.00\">grad &#45;1.5000</text>\n",
       "</g>\n",
       "<!-- 139755591952576* -->\n",
       "<g id=\"node10\" class=\"node\">\n",
       "<title>139755591952576*</title>\n",
       "<ellipse fill=\"none\" stroke=\"black\" cx=\"316\" cy=\"-128.5\" rx=\"27\" ry=\"18\"/>\n",
       "<text text-anchor=\"middle\" x=\"316\" y=\"-124.8\" font-family=\"Times,serif\" font-size=\"14.00\">*</text>\n",
       "</g>\n",
       "<!-- 139755994519088&#45;&gt;139755591952576* -->\n",
       "<g id=\"edge7\" class=\"edge\">\n",
       "<title>139755994519088&#45;&gt;139755591952576*</title>\n",
       "<path fill=\"none\" stroke=\"black\" d=\"M221.97,-165.45C232.52,-162.76 243.05,-159.78 253,-156.5 263.71,-152.97 275.06,-148.18 285.08,-143.56\"/>\n",
       "<polygon fill=\"black\" stroke=\"black\" points=\"286.67,-146.68 294.21,-139.23 283.67,-140.35 286.67,-146.68\"/>\n",
       "</g>\n",
       "<!-- 139755994519136 -->\n",
       "<g id=\"node4\" class=\"node\">\n",
       "<title>139755994519136</title>\n",
       "<polygon fill=\"none\" stroke=\"black\" points=\"824.5,-137.5 824.5,-173.5 1056.5,-173.5 1056.5,-137.5 824.5,-137.5\"/>\n",
       "<text text-anchor=\"middle\" x=\"837.5\" y=\"-151.8\" font-family=\"Times,serif\" font-size=\"14.00\">b</text>\n",
       "<polyline fill=\"none\" stroke=\"black\" points=\"850.5,-137.5 850.5,-173.5 \"/>\n",
       "<text text-anchor=\"middle\" x=\"901.5\" y=\"-151.8\" font-family=\"Times,serif\" font-size=\"14.00\">data 6.8814</text>\n",
       "<polyline fill=\"none\" stroke=\"black\" points=\"952.5,-137.5 952.5,-173.5 \"/>\n",
       "<text text-anchor=\"middle\" x=\"1004.5\" y=\"-151.8\" font-family=\"Times,serif\" font-size=\"14.00\">grad 0.5000</text>\n",
       "</g>\n",
       "<!-- 139755994519136&#45;&gt;139755592380960+ -->\n",
       "<g id=\"edge13\" class=\"edge\">\n",
       "<title>139755994519136&#45;&gt;139755592380960+</title>\n",
       "<path fill=\"none\" stroke=\"black\" d=\"M1056.75,-141.5C1085.57,-138 1114.4,-134.5 1136.01,-131.87\"/>\n",
       "<polygon fill=\"black\" stroke=\"black\" points=\"1136.5,-135.34 1146.01,-130.66 1135.66,-128.39 1136.5,-135.34\"/>\n",
       "</g>\n",
       "<!-- 139755592375392 -->\n",
       "<g id=\"node5\" class=\"node\">\n",
       "<title>139755592375392</title>\n",
       "<polygon fill=\"none\" stroke=\"black\" points=\"1603.69,-109.5 1603.69,-145.5 1834.69,-145.5 1834.69,-109.5 1603.69,-109.5\"/>\n",
       "<text text-anchor=\"middle\" x=\"1616.19\" y=\"-123.8\" font-family=\"Times,serif\" font-size=\"14.00\">o</text>\n",
       "<polyline fill=\"none\" stroke=\"black\" points=\"1628.69,-109.5 1628.69,-145.5 \"/>\n",
       "<text text-anchor=\"middle\" x=\"1679.69\" y=\"-123.8\" font-family=\"Times,serif\" font-size=\"14.00\">data 0.7071</text>\n",
       "<polyline fill=\"none\" stroke=\"black\" points=\"1730.69,-109.5 1730.69,-145.5 \"/>\n",
       "<text text-anchor=\"middle\" x=\"1782.69\" y=\"-123.8\" font-family=\"Times,serif\" font-size=\"14.00\">grad 1.0000</text>\n",
       "</g>\n",
       "<!-- 139755592375392tanh&#45;&gt;139755592375392 -->\n",
       "<g id=\"edge2\" class=\"edge\">\n",
       "<title>139755592375392tanh&#45;&gt;139755592375392</title>\n",
       "<path fill=\"none\" stroke=\"black\" d=\"M1568.02,-127.5C1575.61,-127.5 1584.19,-127.5 1593.31,-127.5\"/>\n",
       "<polygon fill=\"black\" stroke=\"black\" points=\"1593.4,-131 1603.4,-127.5 1593.4,-124 1593.4,-131\"/>\n",
       "</g>\n",
       "<!-- 139755994518656 -->\n",
       "<g id=\"node7\" class=\"node\">\n",
       "<title>139755994518656</title>\n",
       "<polygon fill=\"none\" stroke=\"black\" points=\"4.5,-55.5 4.5,-91.5 248.5,-91.5 248.5,-55.5 4.5,-55.5\"/>\n",
       "<text text-anchor=\"middle\" x=\"23.5\" y=\"-69.8\" font-family=\"Times,serif\" font-size=\"14.00\">w2</text>\n",
       "<polyline fill=\"none\" stroke=\"black\" points=\"42.5,-55.5 42.5,-91.5 \"/>\n",
       "<text text-anchor=\"middle\" x=\"93.5\" y=\"-69.8\" font-family=\"Times,serif\" font-size=\"14.00\">data 1.0000</text>\n",
       "<polyline fill=\"none\" stroke=\"black\" points=\"144.5,-55.5 144.5,-91.5 \"/>\n",
       "<text text-anchor=\"middle\" x=\"196.5\" y=\"-69.8\" font-family=\"Times,serif\" font-size=\"14.00\">grad 0.2500</text>\n",
       "</g>\n",
       "<!-- 139755592375248* -->\n",
       "<g id=\"node15\" class=\"node\">\n",
       "<title>139755592375248*</title>\n",
       "<ellipse fill=\"none\" stroke=\"black\" cx=\"316\" cy=\"-73.5\" rx=\"27\" ry=\"18\"/>\n",
       "<text text-anchor=\"middle\" x=\"316\" y=\"-69.8\" font-family=\"Times,serif\" font-size=\"14.00\">*</text>\n",
       "</g>\n",
       "<!-- 139755994518656&#45;&gt;139755592375248* -->\n",
       "<g id=\"edge9\" class=\"edge\">\n",
       "<title>139755994518656&#45;&gt;139755592375248*</title>\n",
       "<path fill=\"none\" stroke=\"black\" d=\"M248.63,-73.5C259.39,-73.5 269.63,-73.5 278.7,-73.5\"/>\n",
       "<polygon fill=\"black\" stroke=\"black\" points=\"278.77,-77 288.77,-73.5 278.77,-70 278.77,-77\"/>\n",
       "</g>\n",
       "<!-- 139755994519184 -->\n",
       "<g id=\"node8\" class=\"node\">\n",
       "<title>139755994519184</title>\n",
       "<polygon fill=\"none\" stroke=\"black\" points=\"0,-110.5 0,-146.5 253,-146.5 253,-110.5 0,-110.5\"/>\n",
       "<text text-anchor=\"middle\" x=\"19\" y=\"-124.8\" font-family=\"Times,serif\" font-size=\"14.00\">w1</text>\n",
       "<polyline fill=\"none\" stroke=\"black\" points=\"38,-110.5 38,-146.5 \"/>\n",
       "<text text-anchor=\"middle\" x=\"91.5\" y=\"-124.8\" font-family=\"Times,serif\" font-size=\"14.00\">data &#45;3.0000</text>\n",
       "<polyline fill=\"none\" stroke=\"black\" points=\"145,-110.5 145,-146.5 \"/>\n",
       "<text text-anchor=\"middle\" x=\"199\" y=\"-124.8\" font-family=\"Times,serif\" font-size=\"14.00\">grad &#45;0.7500</text>\n",
       "</g>\n",
       "<!-- 139755994519184&#45;&gt;139755591952576* -->\n",
       "<g id=\"edge11\" class=\"edge\">\n",
       "<title>139755994519184&#45;&gt;139755591952576*</title>\n",
       "<path fill=\"none\" stroke=\"black\" d=\"M253.09,-128.5C262.26,-128.5 270.97,-128.5 278.81,-128.5\"/>\n",
       "<polygon fill=\"black\" stroke=\"black\" points=\"278.91,-132 288.91,-128.5 278.91,-125 278.91,-132\"/>\n",
       "</g>\n",
       "<!-- 139755591952576 -->\n",
       "<g id=\"node9\" class=\"node\">\n",
       "<title>139755591952576</title>\n",
       "<polygon fill=\"none\" stroke=\"black\" points=\"379,-110.5 379,-146.5 645,-146.5 645,-110.5 379,-110.5\"/>\n",
       "<text text-anchor=\"middle\" x=\"406.5\" y=\"-124.8\" font-family=\"Times,serif\" font-size=\"14.00\">x1w1</text>\n",
       "<polyline fill=\"none\" stroke=\"black\" points=\"434,-110.5 434,-146.5 \"/>\n",
       "<text text-anchor=\"middle\" x=\"487.5\" y=\"-124.8\" font-family=\"Times,serif\" font-size=\"14.00\">data &#45;6.0000</text>\n",
       "<polyline fill=\"none\" stroke=\"black\" points=\"541,-110.5 541,-146.5 \"/>\n",
       "<text text-anchor=\"middle\" x=\"593\" y=\"-124.8\" font-family=\"Times,serif\" font-size=\"14.00\">grad 0.5000</text>\n",
       "</g>\n",
       "<!-- 139755592377072+ -->\n",
       "<g id=\"node12\" class=\"node\">\n",
       "<title>139755592377072+</title>\n",
       "<ellipse fill=\"none\" stroke=\"black\" cx=\"708\" cy=\"-100.5\" rx=\"27\" ry=\"18\"/>\n",
       "<text text-anchor=\"middle\" x=\"708\" y=\"-96.8\" font-family=\"Times,serif\" font-size=\"14.00\">+</text>\n",
       "</g>\n",
       "<!-- 139755591952576&#45;&gt;139755592377072+ -->\n",
       "<g id=\"edge12\" class=\"edge\">\n",
       "<title>139755591952576&#45;&gt;139755592377072+</title>\n",
       "<path fill=\"none\" stroke=\"black\" d=\"M637.78,-110.49C649.77,-108.76 661.15,-107.12 671.08,-105.68\"/>\n",
       "<polygon fill=\"black\" stroke=\"black\" points=\"671.86,-109.11 681.25,-104.22 670.86,-102.18 671.86,-109.11\"/>\n",
       "</g>\n",
       "<!-- 139755591952576*&#45;&gt;139755591952576 -->\n",
       "<g id=\"edge3\" class=\"edge\">\n",
       "<title>139755591952576*&#45;&gt;139755591952576</title>\n",
       "<path fill=\"none\" stroke=\"black\" d=\"M343.16,-128.5C350.61,-128.5 359.28,-128.5 368.68,-128.5\"/>\n",
       "<polygon fill=\"black\" stroke=\"black\" points=\"368.73,-132 378.73,-128.5 368.73,-125 368.73,-132\"/>\n",
       "</g>\n",
       "<!-- 139755592377072 -->\n",
       "<g id=\"node11\" class=\"node\">\n",
       "<title>139755592377072</title>\n",
       "<polygon fill=\"none\" stroke=\"black\" points=\"771,-82.5 771,-118.5 1110,-118.5 1110,-82.5 771,-82.5\"/>\n",
       "<text text-anchor=\"middle\" x=\"835\" y=\"-96.8\" font-family=\"Times,serif\" font-size=\"14.00\">x1*w1 + x2*w2</text>\n",
       "<polyline fill=\"none\" stroke=\"black\" points=\"899,-82.5 899,-118.5 \"/>\n",
       "<text text-anchor=\"middle\" x=\"952.5\" y=\"-96.8\" font-family=\"Times,serif\" font-size=\"14.00\">data &#45;6.0000</text>\n",
       "<polyline fill=\"none\" stroke=\"black\" points=\"1006,-82.5 1006,-118.5 \"/>\n",
       "<text text-anchor=\"middle\" x=\"1058\" y=\"-96.8\" font-family=\"Times,serif\" font-size=\"14.00\">grad 0.5000</text>\n",
       "</g>\n",
       "<!-- 139755592377072&#45;&gt;139755592380960+ -->\n",
       "<g id=\"edge10\" class=\"edge\">\n",
       "<title>139755592377072&#45;&gt;139755592380960+</title>\n",
       "<path fill=\"none\" stroke=\"black\" d=\"M1095.25,-118.51C1110.17,-120.26 1124.12,-121.89 1135.92,-123.27\"/>\n",
       "<polygon fill=\"black\" stroke=\"black\" points=\"1135.79,-126.78 1146.13,-124.47 1136.6,-119.83 1135.79,-126.78\"/>\n",
       "</g>\n",
       "<!-- 139755592377072+&#45;&gt;139755592377072 -->\n",
       "<g id=\"edge4\" class=\"edge\">\n",
       "<title>139755592377072+&#45;&gt;139755592377072</title>\n",
       "<path fill=\"none\" stroke=\"black\" d=\"M735.44,-100.5C742.81,-100.5 751.42,-100.5 760.84,-100.5\"/>\n",
       "<polygon fill=\"black\" stroke=\"black\" points=\"760.94,-104 770.94,-100.5 760.94,-97 760.94,-104\"/>\n",
       "</g>\n",
       "<!-- 139755994518896 -->\n",
       "<g id=\"node13\" class=\"node\">\n",
       "<title>139755994518896</title>\n",
       "<polygon fill=\"none\" stroke=\"black\" points=\"6.5,-0.5 6.5,-36.5 246.5,-36.5 246.5,-0.5 6.5,-0.5\"/>\n",
       "<text text-anchor=\"middle\" x=\"23.5\" y=\"-14.8\" font-family=\"Times,serif\" font-size=\"14.00\">x2</text>\n",
       "<polyline fill=\"none\" stroke=\"black\" points=\"40.5,-0.5 40.5,-36.5 \"/>\n",
       "<text text-anchor=\"middle\" x=\"91.5\" y=\"-14.8\" font-family=\"Times,serif\" font-size=\"14.00\">data 0.0000</text>\n",
       "<polyline fill=\"none\" stroke=\"black\" points=\"142.5,-0.5 142.5,-36.5 \"/>\n",
       "<text text-anchor=\"middle\" x=\"194.5\" y=\"-14.8\" font-family=\"Times,serif\" font-size=\"14.00\">grad 0.5000</text>\n",
       "</g>\n",
       "<!-- 139755994518896&#45;&gt;139755592375248* -->\n",
       "<g id=\"edge6\" class=\"edge\">\n",
       "<title>139755994518896&#45;&gt;139755592375248*</title>\n",
       "<path fill=\"none\" stroke=\"black\" d=\"M218.21,-36.56C230.01,-39.55 241.86,-42.87 253,-46.5 263.46,-49.91 274.58,-54.44 284.47,-58.82\"/>\n",
       "<polygon fill=\"black\" stroke=\"black\" points=\"283.32,-62.15 293.87,-63.1 286.22,-55.77 283.32,-62.15\"/>\n",
       "</g>\n",
       "<!-- 139755592375248 -->\n",
       "<g id=\"node14\" class=\"node\">\n",
       "<title>139755592375248</title>\n",
       "<polygon fill=\"none\" stroke=\"black\" points=\"381.5,-55.5 381.5,-91.5 642.5,-91.5 642.5,-55.5 381.5,-55.5\"/>\n",
       "<text text-anchor=\"middle\" x=\"409\" y=\"-69.8\" font-family=\"Times,serif\" font-size=\"14.00\">x2w2</text>\n",
       "<polyline fill=\"none\" stroke=\"black\" points=\"436.5,-55.5 436.5,-91.5 \"/>\n",
       "<text text-anchor=\"middle\" x=\"487.5\" y=\"-69.8\" font-family=\"Times,serif\" font-size=\"14.00\">data 0.0000</text>\n",
       "<polyline fill=\"none\" stroke=\"black\" points=\"538.5,-55.5 538.5,-91.5 \"/>\n",
       "<text text-anchor=\"middle\" x=\"590.5\" y=\"-69.8\" font-family=\"Times,serif\" font-size=\"14.00\">grad 0.5000</text>\n",
       "</g>\n",
       "<!-- 139755592375248&#45;&gt;139755592377072+ -->\n",
       "<g id=\"edge8\" class=\"edge\">\n",
       "<title>139755592375248&#45;&gt;139755592377072+</title>\n",
       "<path fill=\"none\" stroke=\"black\" d=\"M642.4,-91.51C652.78,-92.95 662.6,-94.32 671.3,-95.53\"/>\n",
       "<polygon fill=\"black\" stroke=\"black\" points=\"670.94,-99.01 681.32,-96.93 671.9,-92.08 670.94,-99.01\"/>\n",
       "</g>\n",
       "<!-- 139755592375248*&#45;&gt;139755592375248 -->\n",
       "<g id=\"edge5\" class=\"edge\">\n",
       "<title>139755592375248*&#45;&gt;139755592375248</title>\n",
       "<path fill=\"none\" stroke=\"black\" d=\"M343.16,-73.5C351.24,-73.5 360.75,-73.5 371.07,-73.5\"/>\n",
       "<polygon fill=\"black\" stroke=\"black\" points=\"371.2,-77 381.2,-73.5 371.2,-70 371.2,-77\"/>\n",
       "</g>\n",
       "</g>\n",
       "</svg>\n"
      ],
      "text/plain": [
       "<graphviz.graphs.Digraph at 0x7f1b7a689450>"
      ]
     },
     "execution_count": 10,
     "metadata": {},
     "output_type": "execute_result"
    }
   ],
   "source": [
    "draw_dot(o)"
   ]
  },
  {
   "cell_type": "code",
   "execution_count": null,
   "metadata": {},
   "outputs": [],
   "source": []
  },
  {
   "cell_type": "code",
   "execution_count": 15,
   "metadata": {},
   "outputs": [],
   "source": [
    "a = Value(2.0,label='a')\n",
    "b = a+a\n",
    "b.label='b'"
   ]
  },
  {
   "cell_type": "code",
   "execution_count": 16,
   "metadata": {},
   "outputs": [
    {
     "data": {
      "image/svg+xml": [
       "<?xml version=\"1.0\" encoding=\"UTF-8\" standalone=\"no\"?>\n",
       "<!DOCTYPE svg PUBLIC \"-//W3C//DTD SVG 1.1//EN\"\n",
       " \"http://www.w3.org/Graphics/SVG/1.1/DTD/svg11.dtd\">\n",
       "<!-- Generated by graphviz version 2.43.0 (0)\n",
       " -->\n",
       "<!-- Title: %3 Pages: 1 -->\n",
       "<svg width=\"597pt\" height=\"45pt\"\n",
       " viewBox=\"0.00 0.00 597.00 45.00\" xmlns=\"http://www.w3.org/2000/svg\" xmlns:xlink=\"http://www.w3.org/1999/xlink\">\n",
       "<g id=\"graph0\" class=\"graph\" transform=\"scale(1 1) rotate(0) translate(4 41)\">\n",
       "<title>%3</title>\n",
       "<polygon fill=\"white\" stroke=\"transparent\" points=\"-4,4 -4,-41 593,-41 593,4 -4,4\"/>\n",
       "<!-- 139755592440352 -->\n",
       "<g id=\"node1\" class=\"node\">\n",
       "<title>139755592440352</title>\n",
       "<polygon fill=\"none\" stroke=\"black\" points=\"357,-0.5 357,-36.5 589,-36.5 589,-0.5 357,-0.5\"/>\n",
       "<text text-anchor=\"middle\" x=\"370\" y=\"-14.8\" font-family=\"Times,serif\" font-size=\"14.00\">b</text>\n",
       "<polyline fill=\"none\" stroke=\"black\" points=\"383,-0.5 383,-36.5 \"/>\n",
       "<text text-anchor=\"middle\" x=\"434\" y=\"-14.8\" font-family=\"Times,serif\" font-size=\"14.00\">data 4.0000</text>\n",
       "<polyline fill=\"none\" stroke=\"black\" points=\"485,-0.5 485,-36.5 \"/>\n",
       "<text text-anchor=\"middle\" x=\"537\" y=\"-14.8\" font-family=\"Times,serif\" font-size=\"14.00\">grad 1.0000</text>\n",
       "</g>\n",
       "<!-- 139755592440352+ -->\n",
       "<g id=\"node2\" class=\"node\">\n",
       "<title>139755592440352+</title>\n",
       "<ellipse fill=\"none\" stroke=\"black\" cx=\"294\" cy=\"-18.5\" rx=\"27\" ry=\"18\"/>\n",
       "<text text-anchor=\"middle\" x=\"294\" y=\"-14.8\" font-family=\"Times,serif\" font-size=\"14.00\">+</text>\n",
       "</g>\n",
       "<!-- 139755592440352+&#45;&gt;139755592440352 -->\n",
       "<g id=\"edge1\" class=\"edge\">\n",
       "<title>139755592440352+&#45;&gt;139755592440352</title>\n",
       "<path fill=\"none\" stroke=\"black\" d=\"M321.12,-18.5C328.53,-18.5 337.14,-18.5 346.4,-18.5\"/>\n",
       "<polygon fill=\"black\" stroke=\"black\" points=\"346.69,-22 356.69,-18.5 346.69,-15 346.69,-22\"/>\n",
       "</g>\n",
       "<!-- 139755592441312 -->\n",
       "<g id=\"node3\" class=\"node\">\n",
       "<title>139755592441312</title>\n",
       "<polygon fill=\"none\" stroke=\"black\" points=\"0,-0.5 0,-36.5 231,-36.5 231,-0.5 0,-0.5\"/>\n",
       "<text text-anchor=\"middle\" x=\"12.5\" y=\"-14.8\" font-family=\"Times,serif\" font-size=\"14.00\">a</text>\n",
       "<polyline fill=\"none\" stroke=\"black\" points=\"25,-0.5 25,-36.5 \"/>\n",
       "<text text-anchor=\"middle\" x=\"76\" y=\"-14.8\" font-family=\"Times,serif\" font-size=\"14.00\">data 2.0000</text>\n",
       "<polyline fill=\"none\" stroke=\"black\" points=\"127,-0.5 127,-36.5 \"/>\n",
       "<text text-anchor=\"middle\" x=\"179\" y=\"-14.8\" font-family=\"Times,serif\" font-size=\"14.00\">grad 2.0000</text>\n",
       "</g>\n",
       "<!-- 139755592441312&#45;&gt;139755592440352+ -->\n",
       "<g id=\"edge2\" class=\"edge\">\n",
       "<title>139755592441312&#45;&gt;139755592440352+</title>\n",
       "<path fill=\"none\" stroke=\"black\" d=\"M231.27,-18.5C240.32,-18.5 248.97,-18.5 256.76,-18.5\"/>\n",
       "<polygon fill=\"black\" stroke=\"black\" points=\"256.84,-22 266.84,-18.5 256.84,-15 256.84,-22\"/>\n",
       "</g>\n",
       "</g>\n",
       "</svg>\n"
      ],
      "text/plain": [
       "<graphviz.graphs.Digraph at 0x7f1b62716320>"
      ]
     },
     "execution_count": 16,
     "metadata": {},
     "output_type": "execute_result"
    }
   ],
   "source": [
    "b._doBackprop()\n",
    "draw_dot(b)"
   ]
  },
  {
   "cell_type": "code",
   "execution_count": 86,
   "metadata": {},
   "outputs": [],
   "source": [
    "import torch"
   ]
  },
  {
   "cell_type": "code",
   "execution_count": null,
   "metadata": {},
   "outputs": [],
   "source": []
  },
  {
   "cell_type": "code",
   "execution_count": 92,
   "metadata": {},
   "outputs": [
    {
     "name": "stdout",
     "output_type": "stream",
     "text": [
      "0.7071078824962277\n",
      "0.49999844251170106\n"
     ]
    }
   ],
   "source": [
    "x1 = torch.Tensor([2.0]).double() ; x1.requires_grad = True\n",
    "x2 = torch.Tensor([0.0]).double() ; x2.requires_grad = True\n",
    "\n",
    "\n",
    "w1 = torch.Tensor([-3.0]).double() ; w1.requires_grad = True\n",
    "w2 = torch.Tensor([1.0]).double() ; w1.requires_grad = True\n",
    "\n",
    "b = torch.Tensor([6.881375870195432]).double() ; b.requires_grad = True\n",
    "\n",
    "n = x1*w1 + x2*w2 + b\n",
    "\n",
    "o = torch.tanh(n)\n",
    "print(o.data.item())\n",
    "o.backward()\n",
    "print(x2.grad.item())\n"
   ]
  },
  {
   "cell_type": "code",
   "execution_count": null,
   "metadata": {},
   "outputs": [],
   "source": []
  },
  {
   "cell_type": "markdown",
   "metadata": {},
   "source": [
    "Making a Neural Network"
   ]
  },
  {
   "cell_type": "code",
   "execution_count": 20,
   "metadata": {},
   "outputs": [],
   "source": [
    "import random"
   ]
  },
  {
   "cell_type": "code",
   "execution_count": 21,
   "metadata": {},
   "outputs": [],
   "source": [
    "class Neuron:\n",
    "    def __init__(self,nin):\n",
    "        self.w = [Value(random.uniform(-1,1),) for _ in range(nin)]\n",
    "        self.b = Value(random.uniform(-1,1))\n",
    "\n",
    "    def __call__(self,x):\n",
    "        assert len(x) == len(self.w), \"len(x) must be equal to len(w)\"\n",
    "        act =  sum((xi*wi for xi,wi in zip(x,self.w)),self.b)\n",
    "        out = act.tanh()\n",
    "        return out\n",
    "    def parameters(self):\n",
    "        return self.w + [self.b]\n",
    "\n",
    "    \n",
    "class Layer:\n",
    "    def __init__(self,nin,non):\n",
    "        self.neurons = [Neuron(nin) for _ in range(non)]\n",
    "\n",
    "    def __call__(self,x):\n",
    "        out = [n(x) for n in self.neurons]\n",
    "        return out[0] if len(out)==1 else out\n",
    "    def parameters(self):\n",
    "        params = []\n",
    "        for neuron in self.neurons:\n",
    "            ps = neuron.parameters();\n",
    "            params.extend(ps)\n",
    "        return params\n",
    "\n",
    "class MLP:\n",
    "    def __init__(self,nin,nouts):\n",
    "        sz = [nin] + nouts \n",
    "        self.layers = [Layer(sz[i],sz[i+1]) for i in range(len(nouts))] \n",
    "    def __call__(self,x):\n",
    "        for layer in self.layers:\n",
    "            x = layer(x)\n",
    "        return x\n",
    "    def parameters(self):\n",
    "        params = []\n",
    "        for l in self.layers:\n",
    "            ps = l.parameters()\n",
    "            params.extend(ps)\n",
    "        return params\n",
    "\n",
    "    \n",
    "        \n",
    "\n",
    "            \n",
    "\n",
    "\n",
    "\n",
    "\n",
    "    \n",
    "    \n",
    "\n"
   ]
  },
  {
   "cell_type": "code",
   "execution_count": 186,
   "metadata": {},
   "outputs": [],
   "source": [
    "\n",
    "o = MLP(3,[4,4,1])\n",
    "\n",
    "\n",
    "\n"
   ]
  },
  {
   "cell_type": "code",
   "execution_count": 187,
   "metadata": {},
   "outputs": [],
   "source": [
    "xs = [\n",
    "    [1.0,2.0,4.0],\n",
    "    [2.0,3.0,4.0],\n",
    "    [3.0,4.0,2.0],\n",
    "    [2.0,3.0,1.0]\n",
    "]\n",
    "ys = [1.0,-1.0,-1.0,1.0]\n",
    "\n",
    "\n"
   ]
  },
  {
   "cell_type": "code",
   "execution_count": 184,
   "metadata": {},
   "outputs": [
    {
     "name": "stdout",
     "output_type": "stream",
     "text": [
      "Value(data=4.018620720051264)\n",
      "4.018620720051264\n"
     ]
    }
   ],
   "source": [
    "ypred = [o(eg) for eg in xs]\n",
    "loss = sum((ypred - ys)**2 for ypred,ys in zip(ypred,ys))\n",
    "print(loss)\n",
    "\n",
    "for p in o.parameters():\n",
    "    p.grad = 0.0\n",
    "        #backward pass\n",
    "loss._doBackprop()\n",
    "\n",
    "parameters = o.parameters()\n",
    "\n",
    "for p in parameters:\n",
    "    p.data += -0.01 * p.grad\n",
    "        \n",
    "print(loss.data)"
   ]
  },
  {
   "cell_type": "code",
   "execution_count": 185,
   "metadata": {},
   "outputs": [
    {
     "data": {
      "text/plain": [
       "[Value(data=-0.0709287301741343),\n",
       " Value(data=-0.0715645710853215),\n",
       " Value(data=-0.07286996979806312),\n",
       " Value(data=-0.0724597597917847)]"
      ]
     },
     "execution_count": 185,
     "metadata": {},
     "output_type": "execute_result"
    }
   ],
   "source": [
    "ypred"
   ]
  },
  {
   "cell_type": "code",
   "execution_count": 188,
   "metadata": {},
   "outputs": [],
   "source": [
    "def gradientDescent(xs,o,ys,iter,alpha):\n",
    "    for step in range(iter):\n",
    "        #forward pass\n",
    "        ypred = [o(eg) for eg in xs]\n",
    "        loss = sum((ypred - ys)**2 for ypred,ys in zip(ypred,ys))\n",
    "\n",
    "        for p in o.parameters():\n",
    "            p.grad = 0.0\n",
    "\n",
    "        #backward pass\n",
    "        loss._doBackprop()\n",
    "\n",
    "        parameters = o.parameters()\n",
    "\n",
    "        for p in parameters:\n",
    "            p.data += -alpha * p.grad\n",
    "        \n",
    "        print(step,loss.data)\n",
    "\n",
    "\n",
    "\n",
    "        \n"
   ]
  },
  {
   "cell_type": "code",
   "execution_count": 189,
   "metadata": {},
   "outputs": [
    {
     "name": "stdout",
     "output_type": "stream",
     "text": [
      "0 6.898407555678128\n",
      "1 5.341835628228119\n",
      "2 5.169132596080916\n",
      "3 4.827829928916387\n",
      "4 4.507353251870398\n",
      "5 4.261856892008502\n",
      "6 4.115310995550019\n",
      "7 4.045609625438961\n",
      "8 4.01708162527258\n",
      "9 4.006248940596503\n",
      "10 4.002264525961282\n",
      "11 4.00081752770773\n",
      "12 4.000294680068417\n",
      "13 4.000106147274203\n",
      "14 4.000038224023021\n",
      "15 4.000013762658763\n",
      "16 4.000004954934862\n",
      "17 4.000001783848968\n",
      "18 4.000000642199711\n",
      "19 4.000000231194661\n"
     ]
    }
   ],
   "source": [
    "gradientDescent(xs,o,ys,20,0.01)"
   ]
  },
  {
   "cell_type": "code",
   "execution_count": 190,
   "metadata": {},
   "outputs": [
    {
     "data": {
      "text/plain": [
       "[Value(data=-0.0709287301741343),\n",
       " Value(data=-0.0715645710853215),\n",
       " Value(data=-0.07286996979806312),\n",
       " Value(data=-0.0724597597917847)]"
      ]
     },
     "execution_count": 190,
     "metadata": {},
     "output_type": "execute_result"
    }
   ],
   "source": [
    "ypred"
   ]
  },
  {
   "cell_type": "code",
   "execution_count": 36,
   "metadata": {},
   "outputs": [
    {
     "data": {
      "text/plain": [
       "[Value(data=0.8470060728228594), Value(data=0.4539083888917167)]"
      ]
     },
     "execution_count": 36,
     "metadata": {},
     "output_type": "execute_result"
    }
   ],
   "source": [
    "n = Neuron(2)\n",
    "L = Layer(2,2)\n",
    "L([1,2])\n",
    "\n"
   ]
  },
  {
   "cell_type": "code",
   "execution_count": null,
   "metadata": {},
   "outputs": [],
   "source": []
  }
 ],
 "metadata": {
  "kernelspec": {
   "display_name": "Python 3",
   "language": "python",
   "name": "python3"
  },
  "language_info": {
   "codemirror_mode": {
    "name": "ipython",
    "version": 3
   },
   "file_extension": ".py",
   "mimetype": "text/x-python",
   "name": "python",
   "nbconvert_exporter": "python",
   "pygments_lexer": "ipython3",
   "version": "3.10.13"
  }
 },
 "nbformat": 4,
 "nbformat_minor": 2
}
