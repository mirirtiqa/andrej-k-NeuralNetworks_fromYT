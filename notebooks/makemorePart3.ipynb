{
 "cells": [
  {
   "cell_type": "code",
   "execution_count": 2,
   "metadata": {},
   "outputs": [],
   "source": [
    "import torch\n",
    "import torch.nn.functional as F\n",
    "import matplotlib.pyplot as plt"
   ]
  },
  {
   "cell_type": "code",
   "execution_count": 3,
   "metadata": {},
   "outputs": [
    {
     "data": {
      "text/plain": [
       "['emma', 'olivia', 'ava', 'isabella', 'sophia', 'charlotte', 'mia', 'amelia']"
      ]
     },
     "execution_count": 3,
     "metadata": {},
     "output_type": "execute_result"
    }
   ],
   "source": [
    "words = open('names.txt','r').read().splitlines()\n",
    "words[:8]"
   ]
  },
  {
   "cell_type": "code",
   "execution_count": 4,
   "metadata": {},
   "outputs": [
    {
     "data": {
      "text/plain": [
       "32033"
      ]
     },
     "execution_count": 4,
     "metadata": {},
     "output_type": "execute_result"
    }
   ],
   "source": [
    "len(words)"
   ]
  },
  {
   "cell_type": "code",
   "execution_count": 5,
   "metadata": {},
   "outputs": [
    {
     "data": {
      "text/plain": [
       "27"
      ]
     },
     "execution_count": 5,
     "metadata": {},
     "output_type": "execute_result"
    }
   ],
   "source": [
    "chars = sorted(list(set(''.join(words))))\n",
    "stoi = {s:i+1 for i,s in enumerate(chars)}\n",
    "stoi['.']=0\n",
    "itos = {i:s for s,i in stoi.items()}\n",
    "vocab_size=(len(itos))\n",
    "vocab_size"
   ]
  },
  {
   "cell_type": "code",
   "execution_count": 21,
   "metadata": {},
   "outputs": [],
   "source": [
    "#buidling the dataset\n",
    "block_size = 3\n",
    "def build_dataset(words):\n",
    "    X,Y = [],[]\n",
    "\n",
    "    for w in words:\n",
    "        context = [0]*block_size\n",
    "        for ch in w + '.':\n",
    "            ix = stoi[ch]\n",
    "            Y.append(ix)\n",
    "            X.append(context)\n",
    "            context = context[1:] +[ix]\n",
    "    X = torch.tensor(X)\n",
    "    Y = torch.tensor(Y)\n",
    "    return X,Y\n",
    "\n",
    "import random\n",
    "random.seed(42)\n",
    "random.shuffle(words)\n",
    "n1 = int(0.8*len(words))\n",
    "n2 = int(0.9*len(words))\n",
    "\n",
    "Xtr, Ytr = build_dataset(words[:n1])\n",
    "Xdev, Ydev = build_dataset(words[n1:n2])\n",
    "Xte,Yte = build_dataset(words[n2:])\n",
    "\n"
   ]
  },
  {
   "cell_type": "code",
   "execution_count": null,
   "metadata": {},
   "outputs": [],
   "source": []
  },
  {
   "cell_type": "code",
   "execution_count": 42,
   "metadata": {},
   "outputs": [
    {
     "name": "stdout",
     "output_type": "stream",
     "text": [
      "12097\n"
     ]
    }
   ],
   "source": [
    "n_embed = 10\n",
    "n_hidden = 200\n",
    "\n",
    "g = torch.Generator().manual_seed(2147483647)\n",
    "C = torch.randn((vocab_size,n_embed), generator = g)\n",
    "W1 = torch.randn((n_embed*block_size,n_hidden), generator = g) * (5/3)/((n_embed*block_size)**0.5)\n",
    "#b1 = torch.randn(n_hidden, generator = g) * 0.01\n",
    "W2 = torch.randn((n_hidden,vocab_size), generator = g) * 0.01\n",
    "b2 = torch.randn(vocab_size, generator = g) * 0\n",
    "\n",
    "bnmean_running = torch.zeros([1,n_hidden])\n",
    "bnstd_running = torch.ones([1,n_hidden])\n",
    "bngain = torch.ones([1,n_hidden])\n",
    "bnbias = torch.zeros([1,n_hidden])\n",
    "\n",
    "parameters = [C,W1,W2,b2,bngain,bnbias]\n",
    "\n",
    "print(sum(p.nelement() for p in parameters))\n",
    "\n",
    "for p in parameters:\n",
    "    p.requires_grad = True\n"
   ]
  },
  {
   "cell_type": "code",
   "execution_count": 8,
   "metadata": {},
   "outputs": [],
   "source": [
    "#hpreact.shape"
   ]
  },
  {
   "cell_type": "code",
   "execution_count": 9,
   "metadata": {},
   "outputs": [],
   "source": [
    "#hpreact.mean(0,keepdim=True).shape\n",
    "#hpreact.std(0,keepdim=True).shape"
   ]
  },
  {
   "cell_type": "code",
   "execution_count": 43,
   "metadata": {},
   "outputs": [
    {
     "name": "stdout",
     "output_type": "stream",
     "text": [
      "3.285633\n"
     ]
    },
    {
     "name": "stdout",
     "output_type": "stream",
     "text": [
      "2.534202\n",
      "2.434208\n",
      "2.224304\n",
      "2.501032\n",
      "2.159402\n",
      "1.943409\n",
      "2.365490\n",
      "2.276790\n",
      "2.339267\n",
      "2.134008\n",
      "2.270283\n",
      "2.282225\n",
      "2.177814\n",
      "2.070806\n",
      "1.884469\n",
      "1.864698\n",
      "2.044937\n",
      "2.288980\n",
      "2.213271\n"
     ]
    }
   ],
   "source": [
    "max_steps = 20000\n",
    "batch_size = 32\n",
    "lossi = []\n",
    "\n",
    "for i in range(max_steps):\n",
    "    #making a batch\n",
    "    ix = torch.randint(0,Xtr.shape[0],(batch_size,),generator=g)\n",
    "    Xb,Yb = Xtr[ix], Ytr[ix]\n",
    "\n",
    "    #forward pass\n",
    "    emb = C[Xb]\n",
    "    embcat = emb.view(emb.shape[0],-1)\n",
    "    hpreact = embcat @ W1 #+b1\n",
    "    bnmeani =hpreact.mean(0,keepdim=True)\n",
    "    bnstdi = hpreact.std(0,keepdim=True)\n",
    "    hpreact = bngain * (hpreact - bnmeani)/bnstdi + bnbias #batch normalisation\n",
    "\n",
    "    with torch.no_grad():\n",
    "        bnmean_running = 0.999 * bnmean_running + 0.001 * bnmeani\n",
    "        bnstd_running = 0.999 * bnstd_running + 0.001 * bnstdi\n",
    "    \n",
    "    h = torch.tanh(hpreact)\n",
    "    logits = h @ W2 +b2\n",
    "    loss = F.cross_entropy(logits,Yb)\n",
    "\n",
    "    #backward pass\n",
    "    for p in parameters:\n",
    "        p.grad = None\n",
    "    loss.backward()\n",
    "\n",
    "    #update\n",
    "    lr = 0.1 if i<10000 else 0.01\n",
    "    for p in parameters:\n",
    "        p.data += -lr*p.grad\n",
    "\n",
    "    #stats\n",
    "    if i %1000 ==0:\n",
    "        print(f'{loss.item():4f}')\n",
    "    lossi.append(loss.log10().item())\n",
    "\n",
    "\n",
    "\n",
    "\n",
    "\n",
    "\n",
    "\n",
    "\n"
   ]
  },
  {
   "cell_type": "code",
   "execution_count": 11,
   "metadata": {},
   "outputs": [
    {
     "data": {
      "text/plain": [
       "[<matplotlib.lines.Line2D at 0x7f981d46ef80>]"
      ]
     },
     "execution_count": 11,
     "metadata": {},
     "output_type": "execute_result"
    },
    {
     "data": {
      "image/png": "[encoded data removed]",
      "text/plain": [
       "<Figure size 640x480 with 1 Axes>"
      ]
     },
     "metadata": {},
     "output_type": "display_data"
    }
   ],
   "source": [
    "plt.plot(lossi)"
   ]
  },
  {
   "cell_type": "code",
   "execution_count": 44,
   "metadata": {},
   "outputs": [],
   "source": [
    "with torch.no_grad():\n",
    "    emb = C[Xtr]\n",
    "    embcat = emb.view(emb.shape[0],-1)\n",
    "    hpreact = embcat @ W1 #+ b1\n",
    "    bnmean = hpreact.mean(0,keepdim=True)\n",
    "    bnstd = hpreact.std(0,keepdim=True)\n",
    "    \n"
   ]
  },
  {
   "cell_type": "code",
   "execution_count": 34,
   "metadata": {},
   "outputs": [
    {
     "data": {
      "text/plain": [
       "tensor([[-1.1326, -0.1227, -1.0549,  0.7757,  0.7918,  0.5088,  1.3742, -0.4567,\n",
       "          0.1998,  0.8172, -1.1415, -1.4975, -0.1176, -0.3421, -0.1159,  0.4819,\n",
       "          0.6198, -1.4515, -0.5686,  0.7380,  0.4170, -0.5176, -0.1156,  0.5165,\n",
       "          0.4789,  0.5526,  0.7070, -0.1233, -0.0542,  0.9158, -0.4724, -0.8707,\n",
       "          0.3107,  0.3120, -0.2991, -0.8318, -0.9048, -0.4847, -0.1770,  0.4201,\n",
       "         -0.1643, -0.9549, -0.6618,  0.0951,  0.5291,  0.0780,  0.4049, -0.5474,\n",
       "          0.8299,  1.2556,  0.5840,  0.0401,  1.2977,  1.1306,  0.9134, -1.1833,\n",
       "         -0.1453,  0.5307,  1.3104, -0.7698, -0.4660,  0.3657,  0.3197,  0.0184,\n",
       "          1.2299,  0.6237,  0.2116,  0.7142, -0.4248, -0.2065,  0.0414,  0.7015,\n",
       "          0.7130, -1.0454, -1.4901, -0.0449,  0.9197,  0.1008,  0.2687,  0.3429,\n",
       "          0.5710,  1.1984,  0.8799,  0.5664,  0.3933, -0.3856, -1.0471,  0.3354,\n",
       "          0.9309, -0.2407, -0.4389,  0.7322, -0.1203, -0.3660, -0.2527, -0.2899,\n",
       "         -0.6787, -0.1893,  0.4293, -1.2192, -0.0575,  0.0727, -1.6188,  0.7644,\n",
       "          0.1625,  0.0396, -1.2615, -0.3881,  0.8221, -0.9356,  0.5895,  0.7090,\n",
       "         -0.1673,  1.7647,  1.0578,  1.3026,  0.4138, -0.0755,  0.3215, -0.0701,\n",
       "         -0.8542, -0.5227,  0.6405,  0.9274, -0.4774,  0.0464,  0.1123, -0.9472,\n",
       "         -0.6391, -0.2814,  1.5311, -0.3689,  0.5500,  0.4505,  0.1550,  0.0654,\n",
       "          0.0200,  0.5284,  0.1788,  0.4750,  0.6011,  0.1350,  0.7121, -0.0625,\n",
       "          1.0747,  0.4129,  1.1364,  0.1199,  0.2299,  0.1315, -0.2985,  0.4761,\n",
       "          0.6712,  1.2996,  0.5147, -0.3523,  0.7680, -0.9577, -0.6693,  0.3613,\n",
       "          0.7604, -0.1774,  0.0280, -1.8355, -0.3172, -0.5780,  0.2798,  0.1583,\n",
       "         -1.0397, -0.2680, -0.0593, -0.7496,  0.4983, -0.2440, -0.3214,  1.0760,\n",
       "          1.1620, -0.6895,  0.6827, -0.7729,  0.5413,  0.8391, -0.2656,  0.2067,\n",
       "          0.0561,  0.1249, -0.0235, -0.5590,  2.0879,  0.8338,  0.1488,  1.0364,\n",
       "         -0.2338,  0.4535, -0.0290,  0.6097,  1.5662, -0.8501,  0.0911,  0.3987]])"
      ]
     },
     "execution_count": 34,
     "metadata": {},
     "output_type": "execute_result"
    }
   ],
   "source": [
    "bnmean_running"
   ]
  },
  {
   "cell_type": "code",
   "execution_count": 33,
   "metadata": {},
   "outputs": [
    {
     "data": {
      "text/plain": [
       "tensor([[-1.1427, -0.1256, -1.0501,  0.7802,  0.7971,  0.5101,  1.3732, -0.4507,\n",
       "          0.1852,  0.8186, -1.1431, -1.5015, -0.1164, -0.3472, -0.1114,  0.4640,\n",
       "          0.6206, -1.4533, -0.5582,  0.7346,  0.4113, -0.5157, -0.1151,  0.5191,\n",
       "          0.4707,  0.5603,  0.7279, -0.1240, -0.0483,  0.9187, -0.4741, -0.8741,\n",
       "          0.3050,  0.3168, -0.2915, -0.8349, -0.9169, -0.4937, -0.1676,  0.4297,\n",
       "         -0.1606, -0.9592, -0.6407,  0.0907,  0.5248,  0.0891,  0.3949, -0.5478,\n",
       "          0.8320,  1.2643,  0.5808,  0.0414,  1.3053,  1.1318,  0.9105, -1.1871,\n",
       "         -0.1451,  0.5315,  1.3193, -0.7595, -0.4663,  0.3619,  0.3100,  0.0235,\n",
       "          1.2404,  0.6338,  0.2186,  0.7208, -0.4287, -0.2011,  0.0513,  0.7151,\n",
       "          0.7194, -1.0449, -1.4979, -0.0420,  0.9235,  0.1017,  0.2672,  0.3549,\n",
       "          0.5723,  1.2128,  0.8816,  0.5605,  0.3818, -0.3826, -1.0272,  0.3366,\n",
       "          0.9443, -0.2371, -0.4427,  0.7346, -0.1224, -0.3699, -0.2468, -0.2817,\n",
       "         -0.6772, -0.1845,  0.4177, -1.2159, -0.0604,  0.0718, -1.6268,  0.7615,\n",
       "          0.1577,  0.0559, -1.2614, -0.3922,  0.8312, -0.9394,  0.6042,  0.7102,\n",
       "         -0.1676,  1.7571,  1.0488,  1.3136,  0.4062, -0.0806,  0.3185, -0.0751,\n",
       "         -0.8531, -0.5243,  0.6473,  0.9279, -0.4910,  0.0421,  0.1046, -0.9531,\n",
       "         -0.6451, -0.2794,  1.5339, -0.3599,  0.5511,  0.4554,  0.1365,  0.0825,\n",
       "          0.0211,  0.5254,  0.1798,  0.4863,  0.6043,  0.1360,  0.7024, -0.0650,\n",
       "          1.0672,  0.4156,  1.1500,  0.1219,  0.2302,  0.1278, -0.2931,  0.4624,\n",
       "          0.6661,  1.3051,  0.5083, -0.3567,  0.7661, -0.9625, -0.6709,  0.3651,\n",
       "          0.7675, -0.1704,  0.0312, -1.8482, -0.3192, -0.5786,  0.2710,  0.1550,\n",
       "         -1.0363, -0.2743, -0.0518, -0.7500,  0.5038, -0.2523, -0.3107,  1.0726,\n",
       "          1.1672, -0.7071,  0.6897, -0.7721,  0.5449,  0.8390, -0.2611,  0.2205,\n",
       "          0.0615,  0.1254, -0.0113, -0.5665,  2.0952,  0.8376,  0.1503,  1.0376,\n",
       "         -0.2394,  0.4602, -0.0377,  0.6104,  1.5624, -0.8601,  0.0837,  0.4025]])"
      ]
     },
     "execution_count": 33,
     "metadata": {},
     "output_type": "execute_result"
    }
   ],
   "source": [
    "bnmean"
   ]
  },
  {
   "cell_type": "code",
   "execution_count": 45,
   "metadata": {},
   "outputs": [
    {
     "name": "stdout",
     "output_type": "stream",
     "text": [
      "train 2.1879220008850098\n",
      "val 2.199070692062378\n"
     ]
    }
   ],
   "source": [
    "@torch.no_grad()\n",
    "def split_loss(split):\n",
    "    x,y ={\n",
    "        'train':(Xtr,Ytr),\n",
    "        'val': (Xdev,Ydev),\n",
    "        'test': (Xte,Yte),\n",
    "    }[split]\n",
    "\n",
    "    emb = C[x]\n",
    "    embcat = emb.view(emb.shape[0],-1)\n",
    "    hpreact = embcat @ W1 #+ b1\n",
    "    hpreact = bngain * (hpreact - bnmean_running)/bnstd_running + bnbias #batch normalisation\n",
    "    h = torch.tanh(hpreact)\n",
    "    logits = h @ W2 + b2\n",
    "    loss = F.cross_entropy(logits,y)\n",
    "    print(split,loss.item())\n",
    "\n",
    "split_loss('train')\n",
    "split_loss('val')\n",
    "\n"
   ]
  },
  {
   "cell_type": "code",
   "execution_count": 46,
   "metadata": {},
   "outputs": [
    {
     "name": "stdout",
     "output_type": "stream",
     "text": [
      "carlah.\n",
      "amille.\n",
      "khi.\n",
      "mrix.\n",
      "taty.\n",
      "salaysie.\n",
      "mahnel.\n",
      "delynn.\n",
      "jarqei.\n",
      "ner.\n",
      "keatciaiiv.\n",
      "kaleigh.\n",
      "ham.\n",
      "join.\n",
      "quinn.\n",
      "sulin.\n",
      "alian.\n",
      "quwraelogiearixi.\n",
      "jace.\n",
      "pirra.\n"
     ]
    }
   ],
   "source": [
    "g = torch.Generator().manual_seed(2147483647 + 10)\n",
    "\n",
    "for _ in range(20):\n",
    "    out = []\n",
    "    context = [0] * block_size\n",
    "    while True:\n",
    "        emb = C[torch.tensor([context])]\n",
    "        embcat = emb.view(1,-1)\n",
    "        hpreact = embcat @ W1 #+ b1\n",
    "        hpreact = bngain * (hpreact - bnmean_running)/bnstd_running + bnbias \n",
    "        h = torch.tanh(hpreact)\n",
    "        logits = h @ W2 + b2\n",
    "        probs = F.softmax(logits,dim=1)\n",
    "\n",
    "        ix = torch.multinomial(probs,num_samples=1,generator=g).item()\n",
    "\n",
    "        context = context[1:] + [ix]\n",
    "\n",
    "        out.append(ix)\n",
    "\n",
    "        if ix == 0:\n",
    "            break\n",
    "\n",
    "    print(''.join(itos[i] for i in out))\n",
    "\n"
   ]
  },
  {
   "cell_type": "code",
   "execution_count": null,
   "metadata": {},
   "outputs": [
    {
     "data": {
      "text/plain": [
       "tensor(0.2005)"
      ]
     },
     "execution_count": 21,
     "metadata": {},
     "output_type": "execute_result"
    }
   ],
   "source": [
    "(torch.randn(10000) * 0.2).std()"
   ]
  },
  {
   "cell_type": "code",
   "execution_count": null,
   "metadata": {},
   "outputs": [
    {
     "data": {
      "text/plain": [
       "0.3042903097250923"
      ]
     },
     "execution_count": 22,
     "metadata": {},
     "output_type": "execute_result"
    }
   ],
   "source": [
    "(5/3)/(30**0.5)"
   ]
  },
  {
   "cell_type": "code",
   "execution_count": null,
   "metadata": {},
   "outputs": [],
   "source": [
    "x = torch.randn(1000,10)\n",
    "w = torch.randn(10,200) /10**0.5\n",
    "y = x @ w\n",
    "\n",
    "\n"
   ]
  },
  {
   "cell_type": "code",
   "execution_count": null,
   "metadata": {},
   "outputs": [
    {
     "name": "stdout",
     "output_type": "stream",
     "text": [
      "tensor(0.0135) tensor(0.9962)\n",
      "tensor(-0.0002) tensor(0.9926)\n"
     ]
    }
   ],
   "source": [
    "print(x.mean(),x.std())\n",
    "print(y.mean(),y.std())"
   ]
  },
  {
   "cell_type": "markdown",
   "metadata": {},
   "source": [
    "we need to take care of initial loss, we can scale down the parameters, and bring them close to 0 so we have less initial loss, and aalso we dont want majority of the tanhs to be -1 and 1 as that will make the gradeint at that neuron to be 0, and hence the neuron wont learn, so we have to scale the paramters befor ethat layer accordingly\n",
    "\n",
    "\n",
    "\n",
    "Now how to set theses scales for parameters?\n"
   ]
  },
  {
   "cell_type": "markdown",
   "metadata": {},
   "source": [
    "Batch Normalisation: we want our hidden should be roughly gaussian"
   ]
  },
  {
   "cell_type": "markdown",
   "metadata": {},
   "source": [
    "so throughout the neural net we want all our layers to be have std deviation of 1 or we want to preserve the standard deviation, so what we do is that we take the weight matrices and multiply each of the element in it by some number as that will be our standard deviation if we have a gaussian weight matrix, look up kaiming init.\n",
    "but there are modern innovations so we dont have to do thus type of inilisation"
   ]
  },
  {
   "cell_type": "markdown",
   "metadata": {},
   "source": [
    "we do batch normalisation, but we onky want to do this at inilisation not throughout the training as we would like the backprop to tll us how to move our values. Batch normalisation layers are put after linear layers"
   ]
  },
  {
   "cell_type": "markdown",
   "metadata": {},
   "source": [
    "summary of batch normlaisation: why batch normalisation? to control the statistics of activations (mean,std deviation) in the neural net.usually we place it after liear layers or a conv layers. internally it params for gain and bias and are trained internally, and has two buffers running mean, running std deviatuon..not trained using backpropbut updates are done. its calculating the mean and teh std deviation of the activations that are feeding into the batch norm layer ove rthat batch. then its centering that batch to be unit gaussian, and then its offsetting and scaling it by learned bias and gain. its also keeping track of mean and std deviation of inputs and its also maintaining a running mean and std deviation, which is later used at inference so that we dont have to reestimate them all the time.\n",
    "also we dont keep the bias of the linear as in batch norm layer we subtract the mean and then this layers adds its own bias\n",
    "\n",
    "no one ;like batch norm layer: because it couples examples together,,, hence alternatives: group normalisation etc"
   ]
  },
  {
   "cell_type": "code",
   "execution_count": null,
   "metadata": {},
   "outputs": [],
   "source": []
  },
  {
   "cell_type": "code",
   "execution_count": null,
   "metadata": {},
   "outputs": [],
   "source": []
  }
 ],
 "metadata": {
  "kernelspec": {
   "display_name": "Python 3",
   "language": "python",
   "name": "python3"
  },
  "language_info": {
   "codemirror_mode": {
    "name": "ipython",
    "version": 3
   },
   "file_extension": ".py",
   "mimetype": "text/x-python",
   "name": "python",
   "nbconvert_exporter": "python",
   "pygments_lexer": "ipython3",
   "version": "3.10.13"
  }
 },
 "nbformat": 4,
 "nbformat_minor": 2
}
